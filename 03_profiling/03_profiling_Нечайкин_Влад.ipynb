{
 "cells": [
  {
   "cell_type": "markdown",
   "metadata": {},
   "source": [
    "## Оптимизация выполнения кода, векторизация, Numba"
   ]
  },
  {
   "cell_type": "markdown",
   "metadata": {},
   "source": [
    "Материалы:\n",
    "* Макрушин С.В. Лекция 3: Оптимизация выполнения кода, векторизация, Numba\n",
    "* IPython Cookbook, Second Edition (2018), глава 4\n",
    "* https://numba.pydata.org/numba-doc/latest/user/5minguide.html"
   ]
  },
  {
   "cell_type": "markdown",
   "metadata": {},
   "source": [
    "## Задачи для совместного разбора"
   ]
  },
  {
   "cell_type": "markdown",
   "metadata": {},
   "source": [
    "1. Сгенерируйте массив `A` из `N=1млн` случайных целых чисел на отрезке от 0 до 1000. Пусть `B[i] = A[i] + 100`. Посчитайте среднее значение массива `B`."
   ]
  },
  {
   "cell_type": "code",
   "execution_count": 5,
   "metadata": {},
   "outputs": [],
   "source": [
    "import numpy as np\n",
    "%load_ext line_profiler\n",
    "A = np.random.randint(0, 1000, size = (1_000_000))"
   ]
  },
  {
   "cell_type": "code",
   "execution_count": null,
   "metadata": {},
   "outputs": [],
   "source": [
    "pip install line_profiler\n",
    "%load_ext line_profiler\n",
    "%lprun -f f1 f1(A)"
   ]
  },
  {
   "cell_type": "code",
   "execution_count": 6,
   "metadata": {},
   "outputs": [],
   "source": [
    "def f1(A):\n",
    "    acc,cnt = 0, 0\n",
    "    for ai in A:\n",
    "        bi = ai + 100\n",
    "        acc += bi\n",
    "        cnt +=1\n",
    "    return acc/cnt"
   ]
  },
  {
   "cell_type": "code",
   "execution_count": 7,
   "metadata": {},
   "outputs": [
    {
     "name": "stdout",
     "output_type": "stream",
     "text": [
      "425 ms ± 119 ms per loop (mean ± std. dev. of 7 runs, 1 loop each)\n"
     ]
    }
   ],
   "source": [
    "%timeit f1(A)"
   ]
  },
  {
   "cell_type": "code",
   "execution_count": 8,
   "metadata": {},
   "outputs": [],
   "source": [
    "%lprun -f f1 f1(A)"
   ]
  },
  {
   "cell_type": "code",
   "execution_count": 9,
   "metadata": {},
   "outputs": [],
   "source": [
    "def f2(A):\n",
    "    acc = 0\n",
    "    for ai in A:\n",
    "        bi = ai + 100\n",
    "        acc += bi\n",
    "    return acc/ len(A)"
   ]
  },
  {
   "cell_type": "code",
   "execution_count": 16,
   "metadata": {},
   "outputs": [
    {
     "name": "stdout",
     "output_type": "stream",
     "text": [
      "484 ms ± 84.6 ms per loop (mean ± std. dev. of 7 runs, 1 loop each)\n"
     ]
    }
   ],
   "source": [
    "%timeit f2(A)"
   ]
  },
  {
   "cell_type": "code",
   "execution_count": 17,
   "metadata": {},
   "outputs": [],
   "source": [
    "%lprun -f f2 f2(A)"
   ]
  },
  {
   "cell_type": "code",
   "execution_count": 20,
   "metadata": {},
   "outputs": [],
   "source": [
    "def f3(A):\n",
    "    acc = 0\n",
    "    for ai in A:\n",
    "        acc += ai\n",
    "    return acc/ len(A) + 100"
   ]
  },
  {
   "cell_type": "code",
   "execution_count": 21,
   "metadata": {},
   "outputs": [
    {
     "name": "stdout",
     "output_type": "stream",
     "text": [
      "150 ms ± 62.2 ms per loop (mean ± std. dev. of 7 runs, 1 loop each)\n"
     ]
    }
   ],
   "source": [
    "%timeit f3(A)"
   ]
  },
  {
   "cell_type": "code",
   "execution_count": 22,
   "metadata": {},
   "outputs": [],
   "source": [
    "%lprun -f f3 f3(A)"
   ]
  },
  {
   "cell_type": "code",
   "execution_count": 23,
   "metadata": {},
   "outputs": [],
   "source": [
    "def f4(A):\n",
    "    return A.mean() + 100"
   ]
  },
  {
   "cell_type": "code",
   "execution_count": 24,
   "metadata": {},
   "outputs": [
    {
     "name": "stdout",
     "output_type": "stream",
     "text": [
      "1.39 ms ± 303 µs per loop (mean ± std. dev. of 7 runs, 1000 loops each)\n"
     ]
    }
   ],
   "source": [
    "%timeit f4(A)"
   ]
  },
  {
   "cell_type": "code",
   "execution_count": 25,
   "metadata": {},
   "outputs": [],
   "source": [
    "%lprun -f f4 f4(A)"
   ]
  },
  {
   "cell_type": "code",
   "execution_count": 26,
   "metadata": {},
   "outputs": [],
   "source": [
    "import numba"
   ]
  },
  {
   "cell_type": "code",
   "execution_count": 28,
   "metadata": {},
   "outputs": [],
   "source": [
    "@numba.njit\n",
    "def f5(A):\n",
    "    acc,cnt = 0, 0\n",
    "    for ai in A:\n",
    "        bi = ai + 100\n",
    "        acc += bi\n",
    "        cnt +=1\n",
    "    return acc/cnt"
   ]
  },
  {
   "cell_type": "code",
   "execution_count": 30,
   "metadata": {},
   "outputs": [
    {
     "name": "stdout",
     "output_type": "stream",
     "text": [
      "189 µs ± 33.5 µs per loop (mean ± std. dev. of 7 runs, 10000 loops each)\n"
     ]
    }
   ],
   "source": [
    "%timeit f5(A)"
   ]
  },
  {
   "cell_type": "code",
   "execution_count": 1,
   "metadata": {},
   "outputs": [
    {
     "name": "stderr",
     "output_type": "stream",
     "text": [
      "UsageError: Line magic function `%lprun` not found.\n"
     ]
    }
   ],
   "source": [
    "%lprun -f f5 f5(A)"
   ]
  },
  {
   "cell_type": "markdown",
   "metadata": {},
   "source": [
    "2. Создайте таблицу 2млн строк и с 4 столбцами, заполненными случайными числами. Добавьте столбец `key`, которые содержит элементы из множества английских букв. Выберите из таблицы подмножество строк, для которых в столбце `key` указаны первые 5 английских букв."
   ]
  },
  {
   "cell_type": "code",
   "execution_count": 32,
   "metadata": {},
   "outputs": [
    {
     "data": {
      "text/plain": [
       "<bound method NDFrame.head of          col1  col2  col3  col4 key\n",
       "0         410   755   245    57   f\n",
       "1         580   417    83    67   h\n",
       "2         537   317   590   956   f\n",
       "3         112   359   910   217   g\n",
       "4          81   601   480   753   a\n",
       "5         397    94   637   409   a\n",
       "6         761   848   375   109   g\n",
       "7         178   302   747   497   g\n",
       "8         230   653   440   534   b\n",
       "9         403   274   252   442   g\n",
       "10        961    59   594   386   h\n",
       "11        377   274   645   998   g\n",
       "12        917   375   249   914   b\n",
       "13        754   912   460   290   b\n",
       "14        321   853   665   498   a\n",
       "15        463   682   494   950   c\n",
       "16        275    61   715   658   c\n",
       "17        417   375   815   740   h\n",
       "18        497   630   265   325   a\n",
       "19        347   602   229   219   b\n",
       "20         14   390   991   350   e\n",
       "21        584   205   884   156   b\n",
       "22        412   299   591   611   e\n",
       "23        303   674   773   612   e\n",
       "24        283   506   846   149   e\n",
       "25         76   136   408   294   h\n",
       "26        874   551    53   666   b\n",
       "27        113   239   312   232   d\n",
       "28        546   205   945   677   c\n",
       "29        809   989   517   863   e\n",
       "...       ...   ...   ...   ...  ..\n",
       "1999970   752   241   356   250   c\n",
       "1999971   719   734   915   208   b\n",
       "1999972     5   117   160   779   g\n",
       "1999973   846   910   408   560   g\n",
       "1999974   772   952    37     0   d\n",
       "1999975   734   416   722   594   d\n",
       "1999976   799   526   716   660   c\n",
       "1999977   383    40   504   765   e\n",
       "1999978   888   512    68   459   h\n",
       "1999979   122   617    78   748   a\n",
       "1999980    47   457   570   450   h\n",
       "1999981   979   271    82   161   d\n",
       "1999982   384   285   531   880   h\n",
       "1999983   696   744   267   865   f\n",
       "1999984    49    59    66   153   e\n",
       "1999985   415   205   316   215   c\n",
       "1999986   910   818   317   224   a\n",
       "1999987   488   505   817   866   g\n",
       "1999988   641   819   373   645   e\n",
       "1999989   224   912   994   187   e\n",
       "1999990   443   867    80    24   e\n",
       "1999991   238   512   986   588   a\n",
       "1999992   273   153   512   355   g\n",
       "1999993   125   487   907   589   h\n",
       "1999994   811   328   808   765   c\n",
       "1999995   627   986   135   431   h\n",
       "1999996   929   382   170   292   g\n",
       "1999997   869   163   520   162   b\n",
       "1999998   393   212   789   678   a\n",
       "1999999   319   318   714   478   c\n",
       "\n",
       "[2000000 rows x 5 columns]>"
      ]
     },
     "execution_count": 32,
     "metadata": {},
     "output_type": "execute_result"
    }
   ],
   "source": [
    "import pandas  as pd\n",
    "df = pd.DataFrame(np.random.randint(0,1000,size=(2_000_000, 4)), columns=['col1', 'col2', 'col3', 'col4'])\n",
    "letters = ['a', 'b', 'c', 'd', 'e', 'f', 'g', 'h']\n",
    "df['key'] = np.random.choice(letters, 2_000_000, replace=True)\n",
    "df.head"
   ]
  },
  {
   "cell_type": "code",
   "execution_count": 33,
   "metadata": {},
   "outputs": [],
   "source": [
    "def g(df):\n",
    "    letters = ['a', 'b', 'c', 'd', 'e']\n",
    "    dfs = []\n",
    "    for letter in letters:\n",
    "        q = df[df['key']==letter]\n",
    "        dfs.append(q)\n",
    "    return pd.concat(dfs, axis = 0)"
   ]
  },
  {
   "cell_type": "code",
   "execution_count": 34,
   "metadata": {},
   "outputs": [
    {
     "name": "stdout",
     "output_type": "stream",
     "text": [
      "1.02 s ± 63.8 ms per loop (mean ± std. dev. of 7 runs, 1 loop each)\n"
     ]
    }
   ],
   "source": [
    "%timeit g(df)"
   ]
  },
  {
   "cell_type": "markdown",
   "metadata": {},
   "source": [
    "## Лабораторная работа 3"
   ]
  },
  {
   "cell_type": "code",
   "execution_count": 3,
   "metadata": {},
   "outputs": [],
   "source": [
    "%load_ext line_profiler"
   ]
  },
  {
   "cell_type": "markdown",
   "metadata": {},
   "source": [
    "1. В файлах `recipes_sample.csv` и `reviews_sample.csv` (__ЛР 2__) находится информация об рецептах блюд и отзывах на эти рецепты соответственно. Загрузите данные из файлов в виде `pd.DataFrame` с названиями `recipes` и `reviews`. Обратите внимание на корректное считывание столбца(ов) с индексами. Приведите столбцы к нужным типам.\n",
    "\n",
    "Реализуйте несколько вариантов функции подсчета среднего значения столбца `rating` из таблицы `reviews` для отзывов, оставленных в 2010 году.\n",
    "\n",
    "A. С использованием метода `DataFrame.iterrows` и без использования срезов таблицы\n",
    "\n",
    "Б. С использованием метода `DataFrame.iterrows` и с использованием срезов таблицы\n",
    "\n",
    "В. С использованием метода `DataFrame.mean`\n",
    "\n",
    "Проверьте, что результаты работы всех написанных функций корректны и совпадают. Измерьте выполнения всех вариантов."
   ]
  },
  {
   "cell_type": "code",
   "execution_count": 14,
   "metadata": {},
   "outputs": [
    {
     "data": {
      "text/html": [
       "<div>\n",
       "<style scoped>\n",
       "    .dataframe tbody tr th:only-of-type {\n",
       "        vertical-align: middle;\n",
       "    }\n",
       "\n",
       "    .dataframe tbody tr th {\n",
       "        vertical-align: top;\n",
       "    }\n",
       "\n",
       "    .dataframe thead th {\n",
       "        text-align: right;\n",
       "    }\n",
       "</style>\n",
       "<table border=\"1\" class=\"dataframe\">\n",
       "  <thead>\n",
       "    <tr style=\"text-align: right;\">\n",
       "      <th></th>\n",
       "      <th>user_id</th>\n",
       "      <th>recipe_id</th>\n",
       "      <th>date</th>\n",
       "      <th>rating</th>\n",
       "      <th>review</th>\n",
       "    </tr>\n",
       "  </thead>\n",
       "  <tbody>\n",
       "    <tr>\n",
       "      <th>370476</th>\n",
       "      <td>21752</td>\n",
       "      <td>57993</td>\n",
       "      <td>2003-05-01</td>\n",
       "      <td>5</td>\n",
       "      <td>Last week whole sides of frozen salmon fillet ...</td>\n",
       "    </tr>\n",
       "    <tr>\n",
       "      <th>624300</th>\n",
       "      <td>431813</td>\n",
       "      <td>142201</td>\n",
       "      <td>2007-09-16</td>\n",
       "      <td>5</td>\n",
       "      <td>So simple and so tasty!  I used a yellow capsi...</td>\n",
       "    </tr>\n",
       "    <tr>\n",
       "      <th>187037</th>\n",
       "      <td>400708</td>\n",
       "      <td>252013</td>\n",
       "      <td>2008-01-10</td>\n",
       "      <td>4</td>\n",
       "      <td>Very nice breakfast HH, easy to make and yummy...</td>\n",
       "    </tr>\n",
       "    <tr>\n",
       "      <th>706134</th>\n",
       "      <td>2001852463</td>\n",
       "      <td>404716</td>\n",
       "      <td>2017-12-11</td>\n",
       "      <td>5</td>\n",
       "      <td>These are a favorite for the holidays and so e...</td>\n",
       "    </tr>\n",
       "    <tr>\n",
       "      <th>312179</th>\n",
       "      <td>95810</td>\n",
       "      <td>129396</td>\n",
       "      <td>2008-03-14</td>\n",
       "      <td>5</td>\n",
       "      <td>Excellent soup!  The tomato flavor is just gre...</td>\n",
       "    </tr>\n",
       "  </tbody>\n",
       "</table>\n",
       "</div>"
      ],
      "text/plain": [
       "           user_id  recipe_id       date  rating  \\\n",
       "370476       21752      57993 2003-05-01       5   \n",
       "624300      431813     142201 2007-09-16       5   \n",
       "187037      400708     252013 2008-01-10       4   \n",
       "706134  2001852463     404716 2017-12-11       5   \n",
       "312179       95810     129396 2008-03-14       5   \n",
       "\n",
       "                                                   review  \n",
       "370476  Last week whole sides of frozen salmon fillet ...  \n",
       "624300  So simple and so tasty!  I used a yellow capsi...  \n",
       "187037  Very nice breakfast HH, easy to make and yummy...  \n",
       "706134  These are a favorite for the holidays and so e...  \n",
       "312179  Excellent soup!  The tomato flavor is just gre...  "
      ]
     },
     "execution_count": 14,
     "metadata": {},
     "output_type": "execute_result"
    }
   ],
   "source": [
    "import pandas as pd\n",
    "recipes = pd.read_csv('recipes_sample.csv',sep = ',', header=0,parse_dates=['submitted'])\n",
    "recipes['submitted'] = pd.to_datetime(recipes['submitted'], format='%Y-%m-%d')\n",
    "reviews = pd.read_csv('reviews_sample.csv',sep = ',', header=0, index_col = 0)\n",
    "reviews['date'] = pd.to_datetime(reviews['date'], format='%Y-%m-%d')\n",
    "reviews.head()"
   ]
  },
  {
   "cell_type": "code",
   "execution_count": 9,
   "metadata": {},
   "outputs": [
    {
     "data": {
      "text/plain": [
       "4.410802235271832"
      ]
     },
     "execution_count": 9,
     "metadata": {},
     "output_type": "execute_result"
    }
   ],
   "source": [
    "def f(reviews):\n",
    "    cnt = 0\n",
    "    for index, row in reviews.iterrows():\n",
    "        cnt+=row[\"rating\"]\n",
    "    return cnt/len(reviews['rating'])\n",
    "f(reviews)"
   ]
  },
  {
   "cell_type": "markdown",
   "metadata": {},
   "source": [
    "def f(reviews):\n",
    "    cnt = 0\n",
    "    cnt1 = 0\n",
    "    for index, row in reviews.iterrows():\n",
    "        if(row['date'].year == 2010)\n",
    "            cnt+=row[\"rating\"]\n",
    "            cnt1+=1\n",
    "    return cnt/cnt1\n",
    "f(reviews)"
   ]
  },
  {
   "cell_type": "code",
   "execution_count": 10,
   "metadata": {},
   "outputs": [
    {
     "name": "stdout",
     "output_type": "stream",
     "text": [
      "9.62 s ± 253 ms per loop (mean ± std. dev. of 7 runs, 1 loop each)\n"
     ]
    }
   ],
   "source": [
    "%timeit f(reviews)"
   ]
  },
  {
   "cell_type": "code",
   "execution_count": 19,
   "metadata": {},
   "outputs": [
    {
     "data": {
      "text/plain": [
       "4.410802235271832"
      ]
     },
     "execution_count": 19,
     "metadata": {},
     "output_type": "execute_result"
    }
   ],
   "source": [
    "a = reviews.loc[:,'date':'rating']\n",
    "def f1(a):\n",
    "    cnt = 0\n",
    "    for index, row in a.iterrows():\n",
    "        cnt+=row['rating']\n",
    "    return cnt/len(a['rating'])\n",
    "f(a)"
   ]
  },
  {
   "cell_type": "code",
   "execution_count": 20,
   "metadata": {},
   "outputs": [
    {
     "name": "stdout",
     "output_type": "stream",
     "text": [
      "10.6 s ± 314 ms per loop (mean ± std. dev. of 7 runs, 1 loop each)\n"
     ]
    }
   ],
   "source": [
    "%timeit f1(a)"
   ]
  },
  {
   "cell_type": "code",
   "execution_count": 21,
   "metadata": {},
   "outputs": [
    {
     "data": {
      "text/plain": [
       "4.410802235271832"
      ]
     },
     "execution_count": 21,
     "metadata": {},
     "output_type": "execute_result"
    }
   ],
   "source": [
    "def f2(reviews):\n",
    "    return reviews['rating'].mean()\n",
    "f(reviews)"
   ]
  },
  {
   "cell_type": "code",
   "execution_count": 22,
   "metadata": {},
   "outputs": [
    {
     "name": "stdout",
     "output_type": "stream",
     "text": [
      "226 µs ± 26.4 µs per loop (mean ± std. dev. of 7 runs, 10000 loops each)\n"
     ]
    }
   ],
   "source": [
    "%timeit f2(reviews)"
   ]
  },
  {
   "cell_type": "markdown",
   "metadata": {},
   "source": [
    "2. Какая из созданных функций выполняется медленнее? Что наиболее сильно влияет на скорость выполнения? Для ответа использовать профайлер `line_profiler`. Сохраните результаты работы профайлера в отдельную текстовую ячейку и прокомментируйте результаты его работы.\n",
    "\n",
    "(*). Сможете ли вы ускорить работу функции 1Б, отказавшись от использования метода `iterrows`, но не используя метод `mean`?"
   ]
  },
  {
   "cell_type": "code",
   "execution_count": 23,
   "metadata": {},
   "outputs": [],
   "source": [
    "%lprun -f f f(reviews)"
   ]
  },
  {
   "cell_type": "code",
   "execution_count": 25,
   "metadata": {},
   "outputs": [],
   "source": [
    "#Timer unit: 1e-07 s\n",
    "\n",
    "#Total time: 33.274 s\n",
    "#File: <ipython-input-18-4bd3fce3f39c>\n",
    "#Function: f at line 2\n",
    "#\n",
    "#Line #      Hits         Time  Per Hit   % Time  Line Contents\n",
    "#==============================================================\n",
    "#     2                                           def f(a):\n",
    "#     3         1        140.0    140.0      0.0      cnt = 0\n",
    "#     4    126697  296140723.0   2337.4     89.0      for index, row in a.iterrows():\n",
    "#     5    126696   36599264.0    288.9     11.0          cnt+=row['rating']\n",
    "#     6         1        221.0    221.0      0.0      return cnt/len(a['rating'])"
   ]
  },
  {
   "cell_type": "code",
   "execution_count": 24,
   "metadata": {},
   "outputs": [],
   "source": [
    "%lprun -f f1 f1(a)"
   ]
  },
  {
   "cell_type": "code",
   "execution_count": null,
   "metadata": {},
   "outputs": [],
   "source": [
    "#Timer unit: 1e-07 s\n",
    "\n",
    "#Total time: 44.3183 s\n",
    "#File: <ipython-input-19-e1cac7b8b192>\n",
    "#Function: f1 at line 2\n",
    "#\n",
    "#Line #      Hits         Time  Per Hit   % Time  Line Contents\n",
    "#==============================================================\n",
    "#     2                                           def f1(a):\n",
    "#     3         1         88.0     88.0      0.0      cnt = 0\n",
    "#     4    126697  393972209.0   3109.6     88.9      for index, row in a.iterrows():\n",
    "#     5    126696   49210031.0    388.4     11.1          cnt+=row['rating']\n",
    "#     6         1        319.0    319.0      0.0      return cnt/len(a['rating'])"
   ]
  },
  {
   "cell_type": "code",
   "execution_count": 28,
   "metadata": {},
   "outputs": [],
   "source": [
    "%lprun -f f2 f2(reviews)"
   ]
  },
  {
   "cell_type": "code",
   "execution_count": null,
   "metadata": {},
   "outputs": [],
   "source": [
    "#Timer unit: 1e-07 s\n",
    "#\n",
    "#Total time: 0.001829 s\n",
    "#File: <ipython-input-21-8814a385e6b5>\n",
    "#Function: f2 at line 1\n",
    "#\n",
    "#Line #      Hits         Time  Per Hit   % Time  Line Contents\n",
    "#==============================================================\n",
    "#     1                                           def f2(reviews):\n",
    "#     2         1      18290.0  18290.0    100.0      return reviews['rating'].mean()"
   ]
  },
  {
   "cell_type": "code",
   "execution_count": 30,
   "metadata": {},
   "outputs": [
    {
     "data": {
      "text/plain": [
       "4.410802235271832"
      ]
     },
     "execution_count": 30,
     "metadata": {},
     "output_type": "execute_result"
    }
   ],
   "source": [
    "a = reviews.loc[:,'date':'rating']\n",
    "def f3(a):\n",
    "    a = list(a['rating'])\n",
    "    cnt = 0\n",
    "    for i in a:\n",
    "        cnt+=i\n",
    "    return cnt/len(a)\n",
    "f3(a)"
   ]
  },
  {
   "cell_type": "code",
   "execution_count": 31,
   "metadata": {},
   "outputs": [
    {
     "name": "stdout",
     "output_type": "stream",
     "text": [
      "23.9 ms ± 6.27 ms per loop (mean ± std. dev. of 7 runs, 10 loops each)\n"
     ]
    }
   ],
   "source": [
    "%timeit f3(a)"
   ]
  },
  {
   "cell_type": "code",
   "execution_count": 15,
   "metadata": {},
   "outputs": [
    {
     "data": {
      "text/plain": [
       "4.410802235271832"
      ]
     },
     "execution_count": 15,
     "metadata": {},
     "output_type": "execute_result"
    }
   ],
   "source": [
    "import numba\n",
    "import numpy as np\n",
    "a = np.array(reviews['rating'])\n",
    "@numba.njit\n",
    "def f4(x):\n",
    "    cnt = 0\n",
    "    for i in range(len(x)):\n",
    "        cnt+=x[i]\n",
    "    return cnt/len(x)\n",
    "f4(a)"
   ]
  },
  {
   "cell_type": "code",
   "execution_count": 9,
   "metadata": {},
   "outputs": [
    {
     "name": "stdout",
     "output_type": "stream",
     "text": [
      "44.5 µs ± 3.82 µs per loop (mean ± std. dev. of 7 runs, 10000 loops each)\n"
     ]
    }
   ],
   "source": [
    "%timeit f4(a)"
   ]
  },
  {
   "cell_type": "markdown",
   "metadata": {},
   "source": [
    "3. Вам предлагается воспользоваться функцией, которая собирает информацию, сколько отзывов содержат то или иное слово. Измерьте время выполнения этой функции. Сможете ли вы найти узкие места в коде, используя профайлер? Выпишите (словами), что в имеющемся коде реализовано неоптимально. Оптимизируйте функцию и добейтесь значительного прироста в скорости выполнения."
   ]
  },
  {
   "cell_type": "code",
   "execution_count": 16,
   "metadata": {},
   "outputs": [],
   "source": [
    "def get_word_reviews_count(df):\n",
    "    word_reviews = {}\n",
    "    for _, row in df.dropna(subset=['review']).iterrows():\n",
    "        recipe_id, review = row['recipe_id'], row['review']\n",
    "        words = review.split(' ')\n",
    "        for word in words:\n",
    "            if word not in word_reviews:\n",
    "                word_reviews[word] = []\n",
    "            word_reviews[word].append(recipe_id)\n",
    "    \n",
    "    word_reviews_count = {}\n",
    "    for _, row in df.dropna(subset=['review']).iterrows():\n",
    "        review = row['review']\n",
    "        words = review.split(' ')\n",
    "        for word in words:\n",
    "            word_reviews_count[word] = len(word_reviews[word])\n",
    "    return word_reviews_count"
   ]
  },
  {
   "cell_type": "code",
   "execution_count": 17,
   "metadata": {},
   "outputs": [],
   "source": [
    "%lprun -f get_word_reviews_count get_word_reviews_count(reviews)"
   ]
  },
  {
   "cell_type": "code",
   "execution_count": null,
   "metadata": {},
   "outputs": [],
   "source": [
    "#Timer unit: 1e-07 s\n",
    "#\n",
    "#Total time: 96.3174 s\n",
    "#File: <ipython-input-67-b1bc049bcd0c>\n",
    "#Function: get_word_reviews_count at line 1\n",
    "#\n",
    "#Line #      Hits         Time  Per Hit   % Time  Line Contents\n",
    "#==============================================================\n",
    "#     1                                           def get_word_reviews_count(df):\n",
    "#     2         1        101.0    101.0      0.0      word_reviews = {}\n",
    "#     3    126680  296279981.0   2338.8     30.8      for _, row in df.dropna(subset=['review']).iterrows():\n",
    "#     4    126679   63189065.0    498.8      6.6          recipe_id, review = row['recipe_id'], row['review']\n",
    "#     5    126679    7155451.0     56.5      0.7          words = review.split(' ')\n",
    "#     6   6918689   32287048.0      4.7      3.4          for word in words:\n",
    "#     7   6792010   41860255.0      6.2      4.3              if word not in word_reviews:\n",
    "#     8    174944    1362566.0      7.8      0.1                  word_reviews[word] = []\n",
    "#     9   6792010   46837912.0      6.9      4.9              word_reviews[word].append(recipe_id)\n",
    "#    10                                               \n",
    "#    11         1          8.0      8.0      0.0      word_reviews_count = {}\n",
    "#    12    126680  320519413.0   2530.2     33.3      for _, row in df.dropna(subset=['review']).iterrows():\n",
    "#    13    126679   40115215.0    316.7      4.2          review = row['review']\n",
    "#    14    126679    7930762.0     62.6      0.8          words = review.split(' ')\n",
    "#    15   6918689   36827930.0      5.3      3.8          for word in words:\n",
    "#    16   6792010   68807951.0     10.1      7.1              word_reviews_count[word] = len(word_reviews[word])\n",
    "#    17         1          8.0      8.0      0.0      return word_reviews_count"
   ]
  },
  {
   "cell_type": "code",
   "execution_count": 54,
   "metadata": {},
   "outputs": [],
   "source": [
    "def get_word_reviews_count1(df):\n",
    "    word_reviews = {}\n",
    "    for _, row in df.dropna(subset=['review']).iterrows():\n",
    "        recipe_id, review = row['recipe_id'], row['review']\n",
    "        words = review.split(' ')\n",
    "        for word in words:\n",
    "            if word not in word_reviews:\n",
    "                word_reviews[word] = 0\n",
    "            word_reviews[word] +=1\n",
    "    return word_reviews"
   ]
  },
  {
   "cell_type": "code",
   "execution_count": 56,
   "metadata": {},
   "outputs": [],
   "source": [
    "%lprun -f get_word_reviews_count1 get_word_reviews_count1(reviews)"
   ]
  },
  {
   "cell_type": "code",
   "execution_count": null,
   "metadata": {},
   "outputs": [],
   "source": [
    "#Timer unit: 1e-07 s\n",
    "#\n",
    "#Total time: 40.1797 s\n",
    "#File: <ipython-input-54-60a7f21a52da>\n",
    "#Function: get_word_reviews_count1 at line 1\n",
    "#\n",
    "#Line #      Hits         Time  Per Hit   % Time  Line Contents\n",
    "#==============================================================\n",
    "#     1                                           def get_word_reviews_count1(df):\n",
    "#     2         1        143.0    143.0      0.0      word_reviews = {}\n",
    "#     3         1          8.0      8.0      0.0      word_reviews_count = {}\n",
    "#     4    126680  242783767.0   1916.5     60.4      for _, row in df.dropna(subset=['review']).iterrows():\n",
    "#     5    126679   52134830.0    411.6     13.0          recipe_id, review = row['recipe_id'], row['review']\n",
    "#     6    126679    5952544.0     47.0      1.5          words = review.split(' ')\n",
    "#     7   6918689   26264105.0      3.8      6.5          for word in words:\n",
    "#     8   6792010   36156284.0      5.3      9.0              if word not in word_reviews:\n",
    "#     9    174944     952173.0      5.4      0.2                  word_reviews[word] = 0\n",
    "#    10   6792010   37553389.0      5.5      9.3              word_reviews[word] +=1\n",
    "#    11         1          8.0      8.0      0.0      return word_reviews"
   ]
  },
  {
   "cell_type": "code",
   "execution_count": 11,
   "metadata": {},
   "outputs": [],
   "source": [
    "def get_word_reviews_count2(reviews):\n",
    "    reviews = reviews.dropna(subset=['review'])\n",
    "    list_str = list(reviews['review'].str.split(' '))\n",
    "    words = []\n",
    "    word_reviews = {}\n",
    "    for i in list_str:\n",
    "        words+=i\n",
    "    for word in words:\n",
    "        if word not in word_reviews:\n",
    "            word_reviews[word] = 0\n",
    "        word_reviews[word] += 1\n",
    "    return(word_reviews)"
   ]
  },
  {
   "cell_type": "code",
   "execution_count": null,
   "metadata": {},
   "outputs": [],
   "source": [
    "#Timer unit: 1e-07 s\n",
    "#\n",
    "#Total time: 10.2779 s\n",
    "#File: <ipython-input-59-40c9e59efba6>\n",
    "#Function: get_word_reviews_count2 at line 1\n",
    "#\n",
    "#Line #      Hits         Time  Per Hit   % Time  Line Contents\n",
    "#==============================================================\n",
    "#     1                                           def get_word_reviews_count2(reviews):\n",
    "#     2         1     358275.0 358275.0      0.3      reviews = reviews.dropna(subset=['review'])\n",
    "#     3         1    9905948.0 9905948.0      9.6      list_str = list(reviews['review'].str.split(' '))\n",
    "#     4         1         14.0     14.0      0.0      words = []\n",
    "#     5         1          7.0      7.0      0.0      word_reviews = {}\n",
    "#     6    126680     467909.0      3.7      0.5      for i in list_str:\n",
    "#     7    126679    3119653.0     24.6      3.0          words+=i\n",
    "#     8   6792011   23933001.0      3.5     23.3      for word in words:\n",
    "#     9   6792010   30380574.0      4.5     29.6          if word not in word_reviews:\n",
    "#    10    174944     807053.0      4.6      0.8              word_reviews[word] = 0\n",
    "#    11   6792010   33806637.0      5.0     32.9          word_reviews[word] += 1\n",
    "#    12         1          5.0      5.0      0.0      return(word_reviews)"
   ]
  },
  {
   "cell_type": "code",
   "execution_count": 18,
   "metadata": {},
   "outputs": [],
   "source": [
    "def get_word_reviews_count3(reviews):\n",
    "    reviews = reviews.dropna(subset=['review'])\n",
    "    list_str = list(reviews['review'].str.split(' '))\n",
    "    words = []\n",
    "    word_reviews = {}\n",
    "    for i in list_str:\n",
    "        words+=i\n",
    "    words_list = list(set(words))\n",
    "    for word in words_list:\n",
    "        word_reviews[word] = 0\n",
    "    for word in words:\n",
    "        word_reviews[word] +=1\n",
    "    return(word_reviews)"
   ]
  },
  {
   "cell_type": "code",
   "execution_count": 19,
   "metadata": {},
   "outputs": [],
   "source": [
    "%lprun -f get_word_reviews_count3 get_word_reviews_count3(reviews)"
   ]
  },
  {
   "cell_type": "code",
   "execution_count": null,
   "metadata": {},
   "outputs": [],
   "source": [
    "#Timer unit: 1e-07 s\n",
    "#\n",
    "#Total time: 7.73803 s\n",
    "#File: <ipython-input-69-4f3709db9b12>\n",
    "#Function: get_word_reviews_count3 at line 1\n",
    "#\n",
    "#Line #      Hits         Time  Per Hit   % Time  Line Contents\n",
    "#==============================================================\n",
    "#     1                                           def get_word_reviews_count3(reviews):\n",
    "#     2         1     382837.0 382837.0      0.5      reviews = reviews.dropna(subset=['review'])\n",
    "#     3         1    8401546.0 8401546.0     10.9      list_str = list(reviews['review'].str.split(' '))\n",
    "#     4         1         12.0     12.0      0.0      words = []\n",
    "#     5         1          5.0      5.0      0.0      word_reviews = {}\n",
    "#     6    126680     474594.0      3.7      0.6      for i in list_str:\n",
    "#     7    126679    2637419.0     20.8      3.4          words+=i\n",
    "#     8         1    4917956.0 4917956.0      6.4      words_list = list(set(words))\n",
    "#     9    174945     761675.0      4.4      1.0      for word in words_list:\n",
    "#    10    174944     821596.0      4.7      1.1          word_reviews[word] = 0\n",
    "#    11   6792011   23258709.0      3.4     30.1      for word in words:\n",
    "#    12   6792010   35723994.0      5.3     46.2          word_reviews[word] +=1\n",
    "#    13         1          6.0      6.0      0.0      return(word_reviews)"
   ]
  },
  {
   "cell_type": "markdown",
   "metadata": {},
   "source": [
    "4. Напишите несколько версий функции `MAPE` (см. [MAPE](https://en.wikipedia.org/wiki/Mean_absolute_percentage_error)) для расчета среднего процентного отклонения значения рейтинга для отзыва от среднего значения рейтинга для этого отзыва. \n",
    "    1. Без использования массивов `numpy` и `numba`\n",
    "    2. Без использования массивов `numpy`, но с использованием `numba`\n",
    "    3. С использованием массивов `numpy`, но без использования `numba`\n",
    "    4. C использованием массивов `numpy` и `numba`\n",
    "    \n",
    "Измерьте время выполнения каждой из реализаций.\n",
    "\n",
    "Замечание: удалите из выборки отзывы с нулевым рейтингом.\n"
   ]
  },
  {
   "cell_type": "code",
   "execution_count": 25,
   "metadata": {},
   "outputs": [],
   "source": [
    "reviews = reviews.drop(reviews.index[(reviews.rating.eq(0))])"
   ]
  },
  {
   "cell_type": "code",
   "execution_count": 51,
   "metadata": {},
   "outputs": [],
   "source": [
    "def MAPE_A(reviews):\n",
    "    result = []\n",
    "    mn = reviews['rating'].mean()\n",
    "    for i in reviews['rating']:\n",
    "        result.append(abs((i-mn)/i)*100)\n",
    "    return np.mean(result)"
   ]
  },
  {
   "cell_type": "code",
   "execution_count": 53,
   "metadata": {},
   "outputs": [
    {
     "name": "stdout",
     "output_type": "stream",
     "text": [
      "37.7 ms ± 1.41 ms per loop (mean ± std. dev. of 7 runs, 10 loops each)\n"
     ]
    }
   ],
   "source": [
    "MAPE_A(reviews)\n",
    "%timeit MAPE_A(reviews)"
   ]
  },
  {
   "cell_type": "code",
   "execution_count": 26,
   "metadata": {},
   "outputs": [],
   "source": [
    "import numpy as np\n",
    "rev = np.array(reviews['rating'])\n",
    "@numba.njit\n",
    "def MAPE_B(rev1):\n",
    "    result = 0\n",
    "    mn = np.mean(rev)\n",
    "    for i in rev1:\n",
    "            result+= (abs((i-mn)/i)*100)\n",
    "    return result/len(rev1)"
   ]
  },
  {
   "cell_type": "code",
   "execution_count": 27,
   "metadata": {},
   "outputs": [
    {
     "data": {
      "text/plain": [
       "16.266663338761987"
      ]
     },
     "execution_count": 27,
     "metadata": {},
     "output_type": "execute_result"
    }
   ],
   "source": [
    "MAPE_B(rev)"
   ]
  },
  {
   "cell_type": "code",
   "execution_count": 94,
   "metadata": {},
   "outputs": [],
   "source": [
    "rev = np.array(reviews['rating'])\n",
    "def MAPE_C(rev1):\n",
    "    result = 0\n",
    "    mn = np.mean(rev)\n",
    "    for i in rev1:\n",
    "            result+= (abs((i-mn)/i)*100)\n",
    "    return result/len(rev1)"
   ]
  },
  {
   "cell_type": "code",
   "execution_count": 95,
   "metadata": {},
   "outputs": [
    {
     "name": "stdout",
     "output_type": "stream",
     "text": [
      "357 ms ± 19.9 ms per loop (mean ± std. dev. of 7 runs, 1 loop each)\n"
     ]
    }
   ],
   "source": [
    "MAPE_C(rev)\n",
    "%timeit MAPE_C(rev)"
   ]
  },
  {
   "cell_type": "code",
   "execution_count": 91,
   "metadata": {},
   "outputs": [],
   "source": [
    "rev = np.array(reviews['rating'])\n",
    "@numba.njit\n",
    "def MAPE_D(rev1):\n",
    "    result = 0\n",
    "    mn = np.mean(rev)\n",
    "    for i in rev1:\n",
    "            result+= (abs((i-mn)/i)*100)\n",
    "    return result/len(rev1)"
   ]
  },
  {
   "cell_type": "code",
   "execution_count": 93,
   "metadata": {},
   "outputs": [
    {
     "name": "stdout",
     "output_type": "stream",
     "text": [
      "277 µs ± 12.7 µs per loop (mean ± std. dev. of 7 runs, 1000 loops each)\n"
     ]
    }
   ],
   "source": [
    "MAPE_D(rev)\n",
    "%timeit MAPE_D(rev)"
   ]
  },
  {
   "cell_type": "code",
   "execution_count": null,
   "metadata": {},
   "outputs": [],
   "source": []
  }
 ],
 "metadata": {
  "kernelspec": {
   "display_name": "Python 3",
   "language": "python",
   "name": "python3"
  },
  "language_info": {
   "codemirror_mode": {
    "name": "ipython",
    "version": 3
   },
   "file_extension": ".py",
   "mimetype": "text/x-python",
   "name": "python",
   "nbconvert_exporter": "python",
   "pygments_lexer": "ipython3",
   "version": "3.7.3"
  }
 },
 "nbformat": 4,
 "nbformat_minor": 4
}
