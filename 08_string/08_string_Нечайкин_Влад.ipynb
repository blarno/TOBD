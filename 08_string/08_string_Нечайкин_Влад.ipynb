{
 "cells": [
  {
   "cell_type": "markdown",
   "metadata": {
    "id": "BLGBynO3uI8U"
   },
   "source": [
    "# Работа со строковыми значениями"
   ]
  },
  {
   "cell_type": "markdown",
   "metadata": {
    "id": "e7VTquFYuI8Z"
   },
   "source": [
    "Материалы:\n",
    "* Макрушин С.В. Лекция 8: Работа со строковыми значениям\n",
    "* https://pyformat.info/\n",
    "* https://docs.python.org/3/library/re.html\n",
    "* https://tproger.ru/translations/regular-expression-python/\n",
    "* https://realpython.com/nltk-nlp-python/"
   ]
  },
  {
   "cell_type": "markdown",
   "metadata": {
    "id": "rCZXZhS3uI8a"
   },
   "source": [
    "## Задачи для совместного разбора"
   ]
  },
  {
   "cell_type": "markdown",
   "metadata": {
    "id": "aZOMKoTIuI8a"
   },
   "source": [
    "1. Вывести на экран данные из словаря `obj` построчно в виде `k = v`, задав формат таким образом, чтобы знак равенства оказался на одной и той же позиции во всех строках. Строковые литералы обернуть в кавычки."
   ]
  },
  {
   "cell_type": "code",
   "execution_count": 1,
   "metadata": {
    "id": "3c-imKp4uI8b"
   },
   "outputs": [],
   "source": [
    "obj = {  \n",
    "         'home_page': 'https://github.com/pypa/sampleproject',\n",
    "         'keywords': 'sample setuptools development',\n",
    "         'license': 'MIT'\n",
    "      }"
   ]
  },
  {
   "cell_type": "code",
   "execution_count": 2,
   "metadata": {
    "colab": {
     "base_uri": "https://localhost:8080/"
    },
    "id": "mSB1MzrDvNou",
    "outputId": "780fcad4-f5ae-4fef-9afb-85b60a08c73a"
   },
   "outputs": [
    {
     "name": "stdout",
     "output_type": "stream",
     "text": [
      "home_page  = \"https://github.com/pypa/sampleproject\"\n",
      "keywords   = \"sample setuptools development\"\n",
      "license    = \"MIT\"\n"
     ]
    }
   ],
   "source": [
    "for k, v in obj.items():\n",
    "  print(f'{k:10} = \"{v}\"')"
   ]
  },
  {
   "cell_type": "markdown",
   "metadata": {
    "id": "4PL8XbGTuI8c"
   },
   "source": [
    "2. Дана строка 'aaa--bbb==ccc__ddd'. Написать регулярное выражение для разбивки строки на список ['aaa','bbb','ccc','ddd']."
   ]
  },
  {
   "cell_type": "code",
   "execution_count": 3,
   "metadata": {
    "id": "3_eRyIRVv0Ci"
   },
   "outputs": [],
   "source": [
    "import re "
   ]
  },
  {
   "cell_type": "code",
   "execution_count": 4,
   "metadata": {
    "id": "rL2vtxwBwlZ2"
   },
   "outputs": [],
   "source": [
    "s = 'aaa--bbb==ccc__ddd'"
   ]
  },
  {
   "cell_type": "code",
   "execution_count": 5,
   "metadata": {
    "colab": {
     "base_uri": "https://localhost:8080/"
    },
    "id": "ARQTE6zRwlb0",
    "outputId": "639cb4c6-e085-411a-c001-c41d9d16ecb0"
   },
   "outputs": [
    {
     "data": {
      "text/plain": [
       "['aaa', 'bbb', 'ccc', 'ddd']"
      ]
     },
     "execution_count": 5,
     "metadata": {},
     "output_type": "execute_result"
    }
   ],
   "source": [
    "#pattern = re.compile(r'[a-z]{1,}')\n",
    "pattern = re.compile(r'[a-z]+')\n",
    "pattern.findall(s)"
   ]
  },
  {
   "cell_type": "markdown",
   "metadata": {
    "id": "c4TBTMOguI8d"
   },
   "source": [
    "3. Проверить корректность введенного E-mail"
   ]
  },
  {
   "cell_type": "code",
   "execution_count": 6,
   "metadata": {
    "colab": {
     "base_uri": "https://localhost:8080/"
    },
    "id": "fNCTmr7Nv0cR",
    "outputId": "fbbda34f-809e-4241-8b40-6450773c9fd3"
   },
   "outputs": [
    {
     "data": {
      "text/plain": [
       "<re.Match object; span=(0, 13), match='osa@bukva.com'>"
      ]
     },
     "execution_count": 6,
     "metadata": {},
     "output_type": "execute_result"
    }
   ],
   "source": [
    "# \\w буква, цифра или знак подчеркивания\n",
    "email = 'osa@bukva.com'\n",
    "pattern = re.compile(r'\\w+@[a-z]+\\.[a-z]{2,3}')\n",
    "pattern.match(email)"
   ]
  },
  {
   "cell_type": "code",
   "execution_count": 7,
   "metadata": {
    "id": "vaRq-1s0z4FM"
   },
   "outputs": [],
   "source": [
    "# $  не будет удовлетворять нашему условию и ничего не выведет \n",
    "email = 'osa@bukva.com123'\n",
    "pattern = re.compile(r'\\w+@[a-z]+\\.[a-z]{2,3}$')\n",
    "pattern.match(email)"
   ]
  },
  {
   "cell_type": "markdown",
   "metadata": {
    "id": "iJt0dnB0uI8d"
   },
   "source": [
    "4. Разбейте текст формулировки задачи 1 на слова."
   ]
  },
  {
   "cell_type": "code",
   "execution_count": 8,
   "metadata": {
    "id": "oIRl6CgDv045"
   },
   "outputs": [],
   "source": [
    "import nltk"
   ]
  },
  {
   "cell_type": "code",
   "execution_count": 9,
   "metadata": {
    "colab": {
     "base_uri": "https://localhost:8080/"
    },
    "id": "m_e7Orn70v3k",
    "outputId": "509ed56e-2944-4631-8ca3-7c0369dcb088"
   },
   "outputs": [
    {
     "name": "stderr",
     "output_type": "stream",
     "text": [
      "[nltk_data] Downloading package punkt to\n",
      "[nltk_data]     C:\\Users\\User\\AppData\\Roaming\\nltk_data...\n",
      "[nltk_data]   Package punkt is already up-to-date!\n"
     ]
    },
    {
     "data": {
      "text/plain": [
       "True"
      ]
     },
     "execution_count": 9,
     "metadata": {},
     "output_type": "execute_result"
    }
   ],
   "source": [
    "nltk.download('punkt')"
   ]
  },
  {
   "cell_type": "code",
   "execution_count": 10,
   "metadata": {
    "id": "069NFt1z0Lsq"
   },
   "outputs": [],
   "source": [
    "text = \"Вывести на экран данные из словаря `obj` построчно в виде `k = v`, задав формат таким образом, чтобы знак равенства оказался на одной и той же позиции во всех строках. Строковые литералы обернуть в кавычки.\""
   ]
  },
  {
   "cell_type": "code",
   "execution_count": 11,
   "metadata": {
    "colab": {
     "base_uri": "https://localhost:8080/"
    },
    "id": "AL7jBz-P0ocj",
    "outputId": "15783408-ef07-4ed3-859f-b26680d65877"
   },
   "outputs": [
    {
     "data": {
      "text/plain": [
       "['Вывести',\n",
       " 'на',\n",
       " 'экран',\n",
       " 'данные',\n",
       " 'из',\n",
       " 'словаря',\n",
       " '`',\n",
       " 'obj',\n",
       " '`',\n",
       " 'построчно',\n",
       " 'в',\n",
       " 'виде',\n",
       " '`',\n",
       " 'k',\n",
       " '=',\n",
       " 'v',\n",
       " '`',\n",
       " ',',\n",
       " 'задав',\n",
       " 'формат',\n",
       " 'таким',\n",
       " 'образом',\n",
       " ',',\n",
       " 'чтобы',\n",
       " 'знак',\n",
       " 'равенства',\n",
       " 'оказался',\n",
       " 'на',\n",
       " 'одной',\n",
       " 'и',\n",
       " 'той',\n",
       " 'же',\n",
       " 'позиции',\n",
       " 'во',\n",
       " 'всех',\n",
       " 'строках',\n",
       " '.',\n",
       " 'Строковые',\n",
       " 'литералы',\n",
       " 'обернуть',\n",
       " 'в',\n",
       " 'кавычки',\n",
       " '.']"
      ]
     },
     "execution_count": 11,
     "metadata": {},
     "output_type": "execute_result"
    }
   ],
   "source": [
    "nltk.word_tokenize(text)"
   ]
  },
  {
   "cell_type": "code",
   "execution_count": 12,
   "metadata": {
    "colab": {
     "base_uri": "https://localhost:8080/"
    },
    "id": "FmGcc4Nx1w97",
    "outputId": "a1e21203-7fbe-4768-fe4b-ac90bc159547"
   },
   "outputs": [
    {
     "data": {
      "text/plain": [
       "['Вывести на экран данные из словаря `obj` построчно в виде `k = v`, задав формат таким образом, чтобы знак равенства оказался на одной и той же позиции во всех строках.',\n",
       " 'Строковые литералы обернуть в кавычки.']"
      ]
     },
     "execution_count": 12,
     "metadata": {},
     "output_type": "execute_result"
    }
   ],
   "source": [
    "nltk.sent_tokenize(text)"
   ]
  },
  {
   "cell_type": "markdown",
   "metadata": {
    "id": "PZdGukBJuI8e"
   },
   "source": [
    "## Лабораторная работа 8"
   ]
  },
  {
   "cell_type": "markdown",
   "metadata": {
    "id": "PwIFOl28uI8f"
   },
   "source": [
    "### Форматирование строк"
   ]
  },
  {
   "cell_type": "markdown",
   "metadata": {
    "id": "ZWUZ0H21uI8f"
   },
   "source": [
    "1.1 Загрузите данные из файла `recipes_sample_with_tags_ingredients.csv` (__ЛР5__) в таблицу `recipes` При помощи форматирования строк выведите информацию об id рецепта и кол-ве игредиентов 5 случайных рецептов в виде таблицы следующего вида:\n",
    "\n",
    "    \n",
    "    |    id     | n_in  |\n",
    "    |-------------------|\n",
    "    |  400894   |  13   |\n",
    "    |   68588   |   8   |\n",
    "    |  362081   |   6   |\n",
    "    |   53408   |  12   |\n",
    "    |  221203   |   4   |"
   ]
  },
  {
   "cell_type": "code",
   "execution_count": 13,
   "metadata": {
    "colab": {
     "base_uri": "https://localhost:8080/"
    },
    "id": "RXes0V388ETk",
    "outputId": "cdec71c6-023a-4c34-edc1-567358726661"
   },
   "outputs": [
    {
     "name": "stdout",
     "output_type": "stream",
     "text": [
      "|    id     | n_in  |\n",
      "|-------------------|\n",
      "| 35864     | 13    |\n",
      "| 415408    | 7     |\n",
      "| 25756     | 8     |\n",
      "| 52168     | 9     |\n",
      "| 473879    | 9     |\n"
     ]
    }
   ],
   "source": [
    "import pandas as pd\n",
    "recipes = pd.read_csv('data/recipes_sample_with_tags_ingredients.csv')\n",
    "print('|    id     | n_in  |')\n",
    "print('|-------------------|')\n",
    "for row in recipes[['id','n_ingredients']].sample(n=5).values:\n",
    "  print(f'| {row[0]:<9} | {row[1]:<5} |')"
   ]
  },
  {
   "cell_type": "markdown",
   "metadata": {
    "id": "8MlNAxkMuI8g"
   },
   "source": [
    "1.2 Напишите функцию `show_info`, которая для рецепта по его `id` создает строку (в смысле объекта python) с описанием следующего вида:\n",
    "\n",
    "```\n",
    "\"Название\"\n",
    "\n",
    "1. Шаг 1.\n",
    "2. Шаг 2.\n",
    "----------\n",
    "#тэг1 #тэг2\n",
    "```\n",
    "\n",
    "    \n",
    "Данные для создания строки получите из файлов `recipes_sample_with_tags_ingredients.csv`, `steps_sample.xml` (__ЛР4__) и `tags_sample.csv` (__ЛР5__). \n",
    "Выведите созданную строку на экран."
   ]
  },
  {
   "cell_type": "code",
   "execution_count": 14,
   "metadata": {},
   "outputs": [],
   "source": [
    "from bs4 import BeautifulSoup\n",
    "import csv"
   ]
  },
  {
   "cell_type": "code",
   "execution_count": 15,
   "metadata": {
    "id": "gmpZOQzm2m3U"
   },
   "outputs": [],
   "source": [
    "steps_dict = {}\n",
    "with open('data/steps_sample.xml', 'r', encoding = 'utf8') as fp:\n",
    "        steps = BeautifulSoup(fp,'xml')\n",
    "for recipe in steps.recipes.find_all(\"recipe\"):\n",
    "    step = [step.next for step in recipe.steps.find_all(\"step\")]\n",
    "    steps_dict[recipe.find(\"id\").next] = step\n",
    "tags_dict = {}\n",
    "with open('data/tags_sample.csv') as fp:\n",
    "        reader = csv.reader(fp)\n",
    "        header = next(reader)\n",
    "        for row in reader:\n",
    "            tags_dict.setdefault(row[0],[]).append(row[1])    "
   ]
  },
  {
   "cell_type": "code",
   "execution_count": 16,
   "metadata": {},
   "outputs": [
    {
     "name": "stdout",
     "output_type": "stream",
     "text": [
      "\"george s at the cove  black bean soup\"\n",
      "\n",
      "1. in 1 / 4 cup butter , saute carrots , onion , celery and broccoli stems for 5 minutes.\n",
      "2. add thyme , oregano and basil.\n",
      "3. saute 5 minutes more.\n",
      "4. add wine and deglaze pan.\n",
      "5. add hot chicken stock and reduce by one-third.\n",
      "6. add worcestershire sauce , tabasco , smoked chicken , beans and broccoli florets.\n",
      "7. simmer 5 minutes.\n",
      "8. add cream , simmer 5 minutes more and season to taste.\n",
      "9. drop in remaining butter , piece by piece , stirring until melted and serve immediately.\n",
      "10. smoked chicken: on a covered grill , slightly smoke boneless chicken , cooking to medium rare.\n",
      "11. chef meskan uses applewood chips and does not allow the grill to become too hot.\n",
      "--------\n",
      "#weeknight #time-to-make #course #main-ingredient #cuisine #preparation #occasion #north-american #soups-stews #beans #poultry #american #chicken #stove-top #dietary #gluten-free #comfort-food #californian #black-beans #free-of-something #meat #taste-mood #equipment #grilling #4-hours-or-less \n"
     ]
    }
   ],
   "source": [
    "def show_info(id = 1):\n",
    "    name = recipes[recipes['id']==id]['name'][0]\n",
    "    string = f'\"{name}\"\\n\\n'\n",
    "    counter = 0\n",
    "    for a in steps_dict[str(id)]:\n",
    "        counter +=1\n",
    "        string += f'{counter}. {a}.\\n'\n",
    "    string+= '--------\\n'\n",
    "    for a in tags_dict[str(id)]:\n",
    "        string += f'#{a} '\n",
    "    return(string)\n",
    "print(show_info(44123))"
   ]
  },
  {
   "cell_type": "markdown",
   "metadata": {
    "id": "jY4bWgKLuI8g"
   },
   "source": [
    "## Работа с регулярными выражениями"
   ]
  },
  {
   "cell_type": "markdown",
   "metadata": {
    "id": "WaGMQitmuI8h"
   },
   "source": [
    "В задачах данного блока подразумевается, что вы не будете использовать никаких строковые методы (`split`, `startswith` и т.д.). Все задачи необходимо решить при помощи регулярных выражений."
   ]
  },
  {
   "cell_type": "markdown",
   "metadata": {
    "id": "xfsHiZvZuI8h"
   },
   "source": [
    "2.1 Посчитайте кол-во отзывов, в которых встречаются числа."
   ]
  },
  {
   "cell_type": "code",
   "execution_count": 17,
   "metadata": {},
   "outputs": [],
   "source": [
    "reviews = pd.read_csv('data/reviews_sample.csv')"
   ]
  },
  {
   "cell_type": "code",
   "execution_count": 18,
   "metadata": {
    "id": "ZyOa_qlP2npD"
   },
   "outputs": [
    {
     "data": {
      "text/plain": [
       "49246"
      ]
     },
     "execution_count": 18,
     "metadata": {},
     "output_type": "execute_result"
    }
   ],
   "source": [
    "import re\n",
    "reviews_list = list(pd.read_csv('data/reviews_sample.csv').review)\n",
    "counter = 0\n",
    "for review in reviews_list:\n",
    "    numbers = re.findall('[0-9]+', str(review))\n",
    "    if len(numbers)!=0:\n",
    "        counter +=1\n",
    "        continue\n",
    "counter"
   ]
  },
  {
   "cell_type": "markdown",
   "metadata": {
    "id": "FNWAufvGuI8h"
   },
   "source": [
    "2.2 Найдите все смайлики в отзывах. Смайлик состоит из трех частей: глаза (символ `=` или `:`), нос (символ `-`), губы (символ `)` или `(`). Смайлик может иметь вид \"глаза-нос-губы\" или \"губы-нос-глаза\". Нос может отсутствовать."
   ]
  },
  {
   "cell_type": "code",
   "execution_count": 219,
   "metadata": {
    "id": "qqZ_9FRi2n-7"
   },
   "outputs": [
    {
     "data": {
      "text/plain": [
       "[':)', ':-)', '=)', '):', ':(', ':-(', '(:', '(=', '(-:', '=-)', '=(']"
      ]
     },
     "execution_count": 219,
     "metadata": {},
     "output_type": "execute_result"
    }
   ],
   "source": [
    "smiles = []\n",
    "for i in range(len(reviews_list)):\n",
    "    smile_list = re.findall(r'[:=][-]?[)(]|[()][-]?[:=]',str(reviews_list[i]))\n",
    "    for j in smile_list:\n",
    "        if j not in smiles:\n",
    "            smiles.append(j)\n",
    "smiles"
   ]
  },
  {
   "cell_type": "markdown",
   "metadata": {
    "id": "cRyvp7uiuI8h"
   },
   "source": [
    "2.3 Проверьте, что все даты в датасете имеют вид \"YYYY-MM-DD\". Продемонстрируйте работу вашего решения, приведя пример из датасета и контрпример не из датасета."
   ]
  },
  {
   "cell_type": "code",
   "execution_count": 20,
   "metadata": {
    "id": "FlJhQl-h2oZE"
   },
   "outputs": [
    {
     "data": {
      "text/plain": [
       "True"
      ]
     },
     "execution_count": 20,
     "metadata": {},
     "output_type": "execute_result"
    }
   ],
   "source": [
    "pattern = re.compile(r'\\d{4}-\\d{2}-\\d{2}')\n",
    "counter = 0\n",
    "for i in reviews.date:\n",
    "    if pattern.match(str(i)):\n",
    "        counter+=1\n",
    "counter==len(reviews.date)"
   ]
  },
  {
   "cell_type": "code",
   "execution_count": 21,
   "metadata": {},
   "outputs": [
    {
     "name": "stdout",
     "output_type": "stream",
     "text": [
      "ohhhh hell no\n"
     ]
    }
   ],
   "source": [
    "if pattern.match('44-44-44'):\n",
    "    print('OHHH hell yes')\n",
    "else:\n",
    "    print('ohhhh hell no')"
   ]
  },
  {
   "cell_type": "markdown",
   "metadata": {
    "id": "dosAiwGOuI8i"
   },
   "source": [
    "2.4 Используя строку-результат задачи 1.2, найдите первое слово каждого шага в рецепте"
   ]
  },
  {
   "cell_type": "code",
   "execution_count": 22,
   "metadata": {
    "id": "e_d8Uzxt2o5L"
   },
   "outputs": [
    {
     "data": {
      "text/plain": [
       "['in',\n",
       " 'add',\n",
       " 'saute',\n",
       " 'add',\n",
       " 'add',\n",
       " 'add',\n",
       " 'simmer',\n",
       " 'add',\n",
       " 'drop',\n",
       " 'smoked',\n",
       " 'chef']"
      ]
     },
     "execution_count": 22,
     "metadata": {},
     "output_type": "execute_result"
    }
   ],
   "source": [
    "def first_word(id = 0):\n",
    "    words = [re.sub(r\"\\b\\d\\S*\", \"\", word)[1:] for word in re.findall('[0-9]\\. [a-z]+',show_info(id))]\n",
    "    return(words)\n",
    "first_word(44123)"
   ]
  },
  {
   "cell_type": "markdown",
   "metadata": {
    "id": "rdbPDfWAuI8i"
   },
   "source": [
    "2.5 Используя регулярные выражения, удалите из описаний все символы, кроме английских букв, цифр и пробелов. Сохраните предобработанные описания в файл `preprocessed_descriptions.csv`, содержащий 2 столбца: `name` и `preprocessed_descriptions`."
   ]
  },
  {
   "cell_type": "code",
   "execution_count": 23,
   "metadata": {
    "id": "93qvCWJ12pxk"
   },
   "outputs": [],
   "source": [
    "import csv\n",
    "descriptions,names = recipes['description'].to_list(),recipes['name'].to_list()\n",
    "descriptions_n_names_list = []\n",
    "for i in range(len(descriptions)):\n",
    "    descriptions_n_names_list.append([names[i],re.sub(r'[^\\w]', ' ', str(descriptions[i]))])\n",
    "with open('data/preprocessed_descriptions.csv', 'w',encoding=\"utf-8\",newline='') as myfile:\n",
    "    wr = csv.writer(myfile)\n",
    "    wr.writerow(('name','preprocessed_descriptions'))\n",
    "    wr.writerows(descriptions_n_names_list)"
   ]
  },
  {
   "cell_type": "markdown",
   "metadata": {
    "id": "4yBCyXhjuI8i"
   },
   "source": [
    "### Сегментация текста"
   ]
  },
  {
   "cell_type": "markdown",
   "metadata": {
    "id": "wmc19wAFuI8j"
   },
   "source": [
    "3.1 Разбейте предобработанные отзывы из задания 2.5 на предложения, а предложения - на слова (используйте `sent_tokenize` и `word_tokenize` из `nltk`). Каждый отзыв представьте в виде списка списков: внешний список - предложения, вложенные списки - слова в предложении.\n",
    "\n",
    "`'Предложение номер один. Предложение номер два.' => [['Предложение', 'номер', 'один', '.'], ['Предложение', 'номер', 'два', '.']]`"
   ]
  },
  {
   "cell_type": "markdown",
   "metadata": {},
   "source": [
    "#### Для отзывов"
   ]
  },
  {
   "cell_type": "code",
   "execution_count": 100,
   "metadata": {},
   "outputs": [],
   "source": [
    "review = reviews.review.to_list()"
   ]
  },
  {
   "cell_type": "code",
   "execution_count": 187,
   "metadata": {
    "id": "9wKhrcKR2qNk"
   },
   "outputs": [],
   "source": [
    "import nltk\n",
    "from nltk.tokenize import RegexpTokenizer\n",
    "tokenizer = RegexpTokenizer('[a-zA-Z]\\w+')\n",
    "tokens_reviews = [[tokenizer.tokenize(sentence.lower()) for sentence in review] for review in[nltk.sent_tokenize(str(text)) for text in review]]"
   ]
  },
  {
   "cell_type": "markdown",
   "metadata": {},
   "source": [
    "#### Для описаний "
   ]
  },
  {
   "cell_type": "code",
   "execution_count": 191,
   "metadata": {},
   "outputs": [],
   "source": [
    "tokens_descriptions = [[tokenizer.tokenize(sentence) for sentence in review] for review in[nltk.sent_tokenize(str(text)) for text in descriptions]]"
   ]
  },
  {
   "cell_type": "markdown",
   "metadata": {},
   "source": [
    "3.2 Посчитайте кол-во уникальных слов в датасете (без учета регистра)."
   ]
  },
  {
   "cell_type": "markdown",
   "metadata": {},
   "source": [
    "#### Для отзывов"
   ]
  },
  {
   "cell_type": "code",
   "execution_count": 189,
   "metadata": {
    "id": "Fzunoa392q_k"
   },
   "outputs": [],
   "source": [
    "tokens_flatten_reviews = []\n",
    "for i in tokens_reviews:\n",
    "    for j in i:\n",
    "        for k in j:\n",
    "            tokens_flatten_reviews.append(k)"
   ]
  },
  {
   "cell_type": "code",
   "execution_count": 190,
   "metadata": {
    "scrolled": true
   },
   "outputs": [
    {
     "data": {
      "text/plain": [
       "41649"
      ]
     },
     "execution_count": 190,
     "metadata": {},
     "output_type": "execute_result"
    }
   ],
   "source": [
    "len(list(set(tokens_flatten_reviews)))"
   ]
  },
  {
   "cell_type": "markdown",
   "metadata": {},
   "source": [
    "#### Для описаний "
   ]
  },
  {
   "cell_type": "code",
   "execution_count": 192,
   "metadata": {
    "id": "Fzunoa392q_k"
   },
   "outputs": [],
   "source": [
    "tokens_flatten_descriptions = []\n",
    "for i in tokens_descriptions:\n",
    "    for j in i:\n",
    "        for k in j:\n",
    "            tokens_flatten_descriptions.append(k)"
   ]
  },
  {
   "cell_type": "code",
   "execution_count": 193,
   "metadata": {
    "scrolled": true
   },
   "outputs": [
    {
     "data": {
      "text/plain": [
       "23198"
      ]
     },
     "execution_count": 193,
     "metadata": {},
     "output_type": "execute_result"
    }
   ],
   "source": [
    "len(list(set(tokens_flatten_descriptions)))"
   ]
  },
  {
   "cell_type": "markdown",
   "metadata": {},
   "source": [
    "3.3 Найдите 5 самых длинных (по количеству слов) отзывов в датасете и выведите их в порядке убывания длины."
   ]
  },
  {
   "cell_type": "markdown",
   "metadata": {},
   "source": [
    "#### Для отзывов"
   ]
  },
  {
   "cell_type": "code",
   "execution_count": 197,
   "metadata": {},
   "outputs": [
    {
     "name": "stdout",
     "output_type": "stream",
     "text": [
      "One of my sisters was in need of some comfort food, and did a search for this to avoid having to dig through my Mother's heirloom stash of recipes in search of her original, grease stained label that she peeled off of the can of Crisco! lol! My only &quot;tweaks&quot; have been to add some dill, a tablespoon of lemon/lime juice, 1/2 t. of cayenne, and I often use dried onions, they will help the patty hold it's shape well and absorb any excess moistness, and I like to lightly press each patty into a dish of panko crumbs for extra crispness, especially if &quot;oven-frying&quot;. If I choose to pan fry, (which isn't often) I pass on using shortening (sorry, Crisco!) and use a healthier oil. My fav as of late is unrefined coconut oil! It gives a great crisp and delicious flavor to everything, and has a higher smoke point that olive oil. If you do fry, skip using canola. Although it is a &quot;healthier&quot; oil, it doesn't &quot;sear&quot; well when used to fry, pan fry, etc. and your food will absorb more oil using it. If your a long time user of it, you will be really surprised at how poorly it frys compared to some of the others. My usual cook method for most things that call for frying is to use a shallow DARK non-stick pan, well coated with coconut, olive, or other oil. Placed in the oven (convection is preferable, the results will almost pass as having been actually fried) and set temp to 400-425, allowing the pan to preheat as well while preparing the food. When ready to cook, carefully place in hot pan. (for things like chicken, etc. always place skin/meaty side down first) Always cook on first side 2/3's of total time, spray or brush tops liberally with coconut oil or preference and flip. Continue cooking the remaining time until done. Do not overcook after flipping or the bottom of the food will get too dry and likely stick, you could lose your &quot;crust&quot;. For salmon patties I cook at 425f, 10 min first side, five min more after the flip. They come out crispy and golden brown. Note: If a good non-stick dark finished pan isn't available, a well seasoned cast iron skillet works great also! Remember to NEVER wash your cast iron with soap/detergent as it will &quot;unseason&quot; it and food will stick! Simply use a spatula to remove anything remaining and wipe until well cleaned and shiny. To store until next use, apply a VERY light coat of oil (coconut is best due to it's natural anti-bacterial qualities) with a paper towel. And if you have inherited any good cast iron wares but are weary of cooking with them due to looking overly-grungy from years of cooking buildup, (carbon) you can give them new life by treating them with a process I call &quot;Rebirthing&quot;. Simply place them in the oven the next time you run a self-cleaning cycle. This will &quot;cremate&quot; away any debris. After it has thoroughly cooled, wash with dish soap, scrubbing well and dry VERY thoroughly. Coat the ENTIRE pan well, all sides, handle and bottom with your choice of oil/shortening/lard (avoid butter, as it contains water) and plane right side up in an oven set to 350f on top rack and place foil or a baking sheet underneath to catch any unlikely drips. Leave enough fat inside of pan to see. After heating up look to insure inside of bottom all has a wet look from the oil. If there's enough oil in the skillet and the puddle looks off-center in the pan, note that your range is not level and put that on your project list for a later time. Let it &quot;bake&quot; for one hour, turn oven off and let cool with door CLOSED until completely cool. Remove and wipe away any excess but insure to wipe every surface to insure it is all coated to protect it from rusting. The more you use it, the more non-stick it will become, as long as you never wash it with soap. If really necessary, it can be scrubbed with a bit of salt and rinsed, wipe till completely dry and wipe down with a bit of oil. Just remember that each time you do more that a thorough wiping out after using will reduce the carbonizing your working to build up that helps it to cook so well w/out sticking! If it hasn't been used in sometime and feels slightly &quot;sticky&quot; or gummy, just well oil the interior, heat on rangetop to med-med/high for about 10 min and it should wipe out clean &amp; slick, ready for use! Remember that cast iron doesn't heat as uniformly compared to other metals, so always give it a good 5 min pre-heat. It holds heat very well, and gives a great sear, especially for meats, etc. with beautiful, crisp even browning and if well heated can cook/transfer it's heat somewhat faster. Remember that if what's in your pan lifts up easily it's time to flip. If not, it's not ready, it will let you know it is when it &quot;releases&quot; itself from the pan. And as with grilling, etc., flip only once! Note: Cast iron cookware wasn't made for smooth top ranges/cooktops and they do not play well together!\n",
      "--------\n",
      "\n",
      "I am in the process of prepping all of my ingredients for this dish. In addition to the Coriander being mentioned in the adding process, it isn&#039;t on the original ingredients list with the measurement so I headed to the the person in a previous review and will use 2 tsp. Secondly, The Green Cardamom is on the ingredients list, but not in the adding process. I am going to add them to the first process with the onions. I trust this will be good!!!... Okay, mission accomplished! I chose to marinade my partial bone in leg of lamb in the yogurt mixture of four garlic cloves and about a 1&quot;x2&quot; piece of ginger, minced and enough yogurt to mix through meat. I believe it created more liquid when I sauteed. I still added 2 T. of water prior to adding the next batch of spices. I chose to add 2 cups of water because I do like more sauce and I ended up with 3lbs of meat. The sauce was very loose and I wanted to achieve a more cohesive thicker sauce.. I still added the yogurt even though I had yogurt on the meat. After the 30 min. simmering on med-hi heat..the sauce hadn&#039;t reduced enough so I left the lid off and over med. heat reduced it down for about an hour and then continued to simmer it on very low heat with the lid on for another hour or so until the sauce was to the consistency that I desired. I then added the cilantro and continued... This dish turned out very nice. I had the time to simmer and reduce... just take heed, if you choose to marinade the meat in the yogurt.. you may want to stick with just adding 1 cup of water to be within the cooking time. &lt;br/&gt;My hats off to Kaypee!&lt;br/&gt;&lt;br/&gt;&lt;br/&gt;&lt;br/&gt;&lt;br/&gt;&lt;br/&gt;&lt;br/&gt;&lt;br/&gt;&lt;br/&gt;&lt;br/&gt;&lt;br/&gt;&lt;br/&gt;&lt;br/&gt;&lt;br/&gt;&lt;br/&gt;&lt;br/&gt;&lt;br/&gt;&lt;br/&gt;&lt;br/&gt;&lt;br/&gt;&lt;br/&gt;&lt;br/&gt;&lt;br/&gt;&lt;br/&gt;&lt;br/&gt;&lt;br/&gt;&lt;br/&gt;&lt;br/&gt;&lt;br/&gt;&lt;br/&gt;&lt;br/&gt;&lt;br/&gt;&lt;br/&gt;&lt;br/&gt;&lt;br/&gt;&lt;br/&gt;&lt;br/&gt;&lt;br/&gt;&lt;br/&gt;&lt;br/&gt;&lt;br/&gt;&lt;br/&gt;&lt;br/&gt;&lt;br/&gt;&lt;br/&gt;&lt;br/&gt;&lt;br/&gt;&lt;br/&gt;&lt;br/&gt;&lt;br/&gt;&lt;br/&gt;&lt;br/&gt;&lt;br/&gt;&lt;br/&gt;&lt;br/&gt;&lt;br/&gt;&lt;br/&gt;&lt;br/&gt;&lt;br/&gt;&lt;br/&gt;&lt;br/&gt;&lt;br/&gt;&lt;br/&gt;&lt;br/&gt;&lt;br/&gt;&lt;br/&gt;&lt;br/&gt;&lt;br/&gt;&lt;br/&gt;&lt;br/&gt;&lt;br/&gt;&lt;br/&gt;&lt;br/&gt;&lt;br/&gt;&lt;br/&gt;&lt;br/&gt;&lt;br/&gt;&lt;br/&gt;&lt;br/&gt;&lt;br/&gt;&lt;br/&gt;&lt;br/&gt;&lt;br/&gt;&lt;br/&gt;&lt;br/&gt;&lt;br/&gt;&lt;br/&gt;&lt;br/&gt;&lt;br/&gt;&lt;br/&gt;&lt;br/&gt;&lt;br/&gt;&lt;br/&gt;&lt;br/&gt;&lt;br/&gt;&lt;br/&gt;&lt;br/&gt;&lt;br/&gt;&lt;br/&gt;&lt;br/&gt;&lt;br/&gt;&lt;br/&gt;&lt;br/&gt;&lt;br/&gt;&lt;br/&gt;&lt;br/&gt;&lt;br/&gt;&lt;br/&gt;&lt;br/&gt;&lt;br/&gt;&lt;br/&gt;&lt;br/&gt;&lt;br/&gt;&lt;br/&gt;&lt;br/&gt;&lt;br/&gt;&lt;br/&gt;&lt;br/&gt;&lt;br/&gt;&lt;br/&gt;&lt;br/&gt; for 3 hours.\n",
      "--------\n",
      "\n",
      "Your vet has severly mislead you and this diet is shocking and depleted.\r\n",
      "\r\n",
      "Cats need a diet similar to what wild cats eat.Cats need more meat than dogs do. Dogs need more bones.  Wild cats and wolves do not eat flour, wheat, grains, kibble, canned food, cow's milk, etc. My cat and dog pack are all fed a 100% raw diet (yes, they make plenty of stomach acid, that is why animals can eat raw and do not get food poisoning) that consists of raw meat, raw organ meat, minced veggies, a few supplements, goat milk and raw egg yolks. The egg whites are the problem NOT the yolks. \r\n",
      "\r\n",
      "If you ever want to give your animal milk, use goat milk, NOT cow's milk. Myenberg makes a canned goat milk that Super Walmart and most health food stores carry. Or use fresh goat milk. Cow's milk is meant for baby cows. \r\n",
      "\r\n",
      "Tuna is an absolute NO. It depletes an animal of certain B vitamins and will turn an animal into a \"tuna junkie.\" A much better choice is canned salmon, mackrel or sardines. Cats need MEAT and cannot maintain optimal health on fish, veggies and carbs. The reason my animals eat fish is to supplement them with Omega-3, since the meat is so high in Omega-6. \r\n",
      "\r\n",
      "*Give Your Dog a Bone* is a great book for anyone with a dog. All dogs, yes ALL dogs need raw meaty bones. Not cooked. They are descendents of wolves. Wolves do not cook their food. The bones, clean the teeth, provide proper calcium (reduces chances of hip dysplaysia) and give the dog a way to take out excess energy and stress through chewing. \r\n",
      "\r\n",
      "Stop buying rawhide, cooked bones, smoked bones. You are wasting your money. ANd yes even little dogs and puppies can handle raw bones. It is a beautiful thing to see a puppy take a raw meaty bone, shake it in its mouth like it is prey and lay down and gnaw away. It is in their blood to eat raw. Good raw meaty bones, are chicken and beef ribs, chicken/turkey/pork necks, chicken backs, beef marrow bones or beef soup bones. Neck and back bones are cheap and most family owned grocers stock them regularly. \r\n",
      "\r\n",
      "And no, raw meat does NOT make an animal aggressive. They snap at each other over bones as wolves do. There are alpha leaders and followers. The human is always alpha no matter what. I practice taking bones away from my dogs and then returning them on a regular basis so they know I am the leader. The Dog Whisperer explains this on his tv show on the National Geographic Channel.\r\n",
      "\r\n",
      "Our cats are fed whole ground chickens or ground chicken leg quarters mixed with ground beef heart and once a month ground beef liver. They cannot chew bones how dogs can. All the meat for cats is ground in a meat grinder at home. Dogs get this mix with veggies and supplements every 3 days. \r\n",
      "\r\n",
      "\r\n",
      "\r\n",
      "Natural Nutrition for Dogs and Cats by Kymythy Schultze is another great book on raw feeding.\r\n",
      "\r\n",
      "For more info. look up BARF diet on any search engine, and please do the research. My husband and I have been raw feeding for 5 years now with no problems. If this post helps just one person it is worth it. It took us over a year of trial and error to get it right for out pack.\r\n",
      "\r\n",
      "Even if you give your dog a nice raw bone a couple of times per week, it is better than nothing. And if you worry about them choking. Never happens. Feed large dogs or dogs that eat fast, larger bones. Keep chicken backs whole. Keep ribs and breast meat whole. Let them work for their food. And only feed an animal when they are calm. Not jumping and yelping. Calmest dog eats first in a pack.\r\n",
      "\r\n",
      "\r\n",
      "Treat an animal as you would want to be treated if you were that animal.\n",
      "--------\n",
      "\n",
      "I made these for a Valentine's day dinner and originally was going to pair it as an appetizer with asparagus and orange roughy. The fish had gone bad, so I actually made these the main course, and luckily the recipe was for 1 lb. so there was plenty for two.<br/><br/>I bought the shrimp deveined. I did my own peeling and then sliced them per the recipe instructions. I wasn't sure how far to go since the recipe said not to slice them all the way through, but when you lay them flat, they don't really make a heart unless the shrimp separates in the middle and stays connected at the ends.<br/><br/>Here's what my Joy of Cooking says (they use the term \"butterfly\"): \"Hold so the underside is up. Slice down its length almost to the vein, to form the hinge. Spread and flatten to form the butterfly shape.\" (I'll give these instructions a try next time.) There's a little diagram in my edition, so if anyone wants this for reference, let me know and I'll be glad to send it to you, or maybe I could upload it as a photo.<br/><br/>Anyway, to peel, wash, and cut 1 lb. of these took me at least forty minutes, so adjust your times accordingly. Or you can buy the shrimp pre-peeled to save time.<br/><br/>I used a fresh orange from the local farmer's market and a lemon from my tree for the citrus juice. This batter was wonderful.<br/><br/>I don't cook with butter so I used a canola oil substitute from Spectrum. I'm not sure it retains all the health benefits if you melt it down. It certainly did not have the consistency and ease of melting regular butter, but the taste was great.<br/><br/>I had a bit more difficulty with the jam sauce as I couldn't really get it to melt and stay a liquid. As soon as it was off the heat source it started to solidify again like jam and even though I tried heating it again I couldn't really get it to a sauce consistency. You may have better luck using regular butter. But the taste was amazing. I did more of a \"dollop\" than a splatter over the shrimp and it worked fine.<br/><br/>I also realized while cooking that I was actually out of hot sauce, but even if you omit this as I did, it is still wonderful. (I'm sure it would be delicious with a kick added too.)<br/><br/>I would recommend waiting until all the shrimp are arranged on the avocado before heating the sauce so you can put it on while still warm.<br/><br/>Temperature is really key to this recipe, which is the first gourmet appetizer I have made. While the shrimp is cooking, arrange the avocado on the plate. Have all the ingredients for the sauce ready in the pan, then as soon as your done with the avocado, heat your sauce, keeping the shrimp in the oven on \"warm\" if necessary. Once the sauce is ready, quickly put the shrimp on the avocado then dash the sauce and sesame seeds on top, and be sure to serve immediately. (I would not recommend this for a sit-out type of appetizer... much better served on plates to guests while warm.)<br/><br/>Also, one avocado was not really enough for 1 lb. of shrimp. However, since I wasn't eating that much avocado due to dietary restrictions, it worked out to give my husband the full avocado which covered about five shrimp with generous size slices. For the full batch, you might need at least 2-3 avocados, or otherwise cut each slice thinner or in half to double your coverage. However, I like how the full size slice hugged the shrimp hearts. (<>)<br/><br/>The combination of the avocado with the shrimp and sauce is heavenly. A few minutes after eating this I was swooning. :)\n",
      "--------\n",
      "\n",
      "I made these, and was worried that they would not hold together as another reviewer stated. I could not get them to clump together like traditional crabcakes, so I just mashed them into the pan (make sure you use metal- my silicone bakeware did not work, but that was my fault, not the Chef's), and hoped for the best. After baking, I just turned the hot metal pan over on a platter, and they all fell out and looked almost like real crabcakes (but the shape of a muffin cup). I did not have quite enough fresh crab on hand, so I supplemented with some diced salad shrimp- no problem at all! I mixed Valdalia and green onion, and used fresh dill and lemon juice. The combination of stronger spices surprised me, but, we all ate the crabcakes (crab/shrimp cakes), and there were no leftovers! They were such a hit, that I made them again two nights ago, but used leftover salmon since I was still out of crab, and because of this recipe, also out of shrimp. It's a great concept, and one I will be using again and again! As a bonus, the entire house smelled like some wonderful, exotic dish. I had my oven hood on to draw some of the heat outside, and neighbors were asking what I cooked. I gave them this website for the recipe, so I can bet that Chef Garlic will be getting many more reviews before too long! <br/><br/>As an aside, I always make this lemon, dill pickle juice and onion sauce (really watery, but sorta like a tarter sauce flavor, without the mayo), when we have any sort of seafood. It makes up great on the seafood, as a pasta base, marinade, or for a sandwich the next day. But, nobody touched it when I made this recipe. My feelings were hurt about that, but it did save me some work, as I hate chopping. <br/><br/>Also, make sure you use mayo, and not that other stuff with a blue lid that doubles as a salad dressing. The sugar in the M.W. would make it way too sweet. Maybe use regular stuffing mix if you use M.W.? But, I really liked the flavor of the cornbread stuffing with the contrast of the seafood. <br/><br/>In addition, the recipe says that it makes one serving, but, we had 4.8 adults that ate from it. The 0.8 is because one is due to deliver in about 3 weeks. I'll cut the recipe in half, or perhaps freeze part of it when the extra 2.8 people go home after she gives birth. <br/><br/>Overall, I have been impressed with this recipe, and pleasently surprised by how well everyone enjoyed it. Having to please 3.8 other picky adults, I felt this was a winner since there was nothing left either time. The flavor is much stronger than any crabcake I have ever had, but with the cornbread, it was a lot more distinctive, too. If you use metal muffin tins, and just press the back of the spoon down hard on top of the muffin tin, there will be no worries about them not holding together. One high dollar famous crabcake maker on the Chesapeke had crabcakes that did not stick together as well as these, and we always go back there a few times a year because they are so good. I have found that using a local farm's organic eggs over commerical grocery store varieties seemed to help keep the cakes together. My old go to recipe for crabcakes usually fell apart all the time <br/><br/>As a personal tip, I enjoyed the ones where I only filled the cup about 1/2 way full, as they came out tasting more like the fried version since more area was able to be baked. They were amazing, and you could taste all of the flavors seperately, and melding together. Mmmm, I want them again after writing this review!\n",
      "--------\n",
      "\n"
     ]
    }
   ],
   "source": [
    "import numpy as np\n",
    "lenghtes_reviews = np.zeros(len(tokens_reviews),dtype = int)\n",
    "for i in range(len(tokens_reviews)):\n",
    "    for j in range(len(tokens_reviews[i])):\n",
    "           lenghtes_reviews[i] += len(tokens_reviews[i][j])\n",
    "for i in np.argsort(lenghtes_reviews)[::-1][:5]:\n",
    "    print(reviews.review[i])\n",
    "    print('--------\\n')"
   ]
  },
  {
   "cell_type": "markdown",
   "metadata": {},
   "source": [
    "#### Для описаний"
   ]
  },
  {
   "cell_type": "code",
   "execution_count": 195,
   "metadata": {},
   "outputs": [
    {
     "name": "stdout",
     "output_type": "stream",
     "text": [
      "this wonderful icing is used for icing cakes and cookies as well as for borders and art work on cakes.  it makes a delicious filling also between the layers of cakes and under fondant icing.  you can make roses but it takes 3 or more days to dry them depending on the humidity. \r\n",
      "\r\n",
      "there are many versions of “buttercream” icing. some are made with eggs and all butter.  some varieties, you have to cook your sugar to a softball stage.  others are 100% shortening or a combination of shortening and butter.\r\n",
      "\r\n",
      "each decorator has his or her favorite.  i personally think that the best taste and textured recipe is the one that has you cook your sugar, add to whipped eggs and use pounds of butter per batch. but…. i live in a state that can easily be a 100 degrees for days on end during the summer and you know what butter does on hot days.  it melts!  a greasy puddle of melted icing on a cake plate is not something i want to look at or eat.  \r\n",
      "\r\n",
      "your top notch decorators have a few options we don’t.  they have huge refrigerators to store their cakes in, and refrigerated vehicles that they can use to deliver decorated cakes. i even know a few that refuse to deliver at all. if you want their cake, you come and get it and it’s your responsibility if it melts.  these decorators don’t even turn on their ovens for a wedding cake for less than $2000.  \r\n",
      "\r\n",
      "the following recipes for buttercream icing hold up pretty well in the heat and humidity, but if you know that your cake will be out in very high temperatures, then don’t use any butter and use only a high quality shortening.  \r\n",
      "\r\n",
      "shortening:  \r\n",
      "\r\n",
      "solid shortenings definitely have their place in baking. so i’m going to talk taste tests. crisco is the hands down winner. it has a clean taste with the melting point of 106 degrees. butter melts somewhere between 88 and 98 degrees f. depending on the amount of fat in the brand.  you can see that if you need to serve a pure buttercream decorated cake, on a hot august afternoon, you could have melted roses (and i do mean greasy puddles) on the tablecloth. this is when a good quality shortening will be a great blessing. i have been told by decorator friends that some of the warehouse brand shortenings leave a grainy consistency to the icing no matter what you do.  \r\n",
      "\r\n",
      "powdered (confectioner's) sugar:  \r\n",
      "\r\n",
      "regarding powdered sugar. please use a cane sugar. i prefer c&h powdered (confectioners) sugar.  many of the cheaper brands use sugar beets for their base.  i don’t know the chemistry behind it but you definitely get different textures to your icing that can vary from batch to batch.  i spent a few months being very frustrated with the quality of my icing until a kind lady did a bit of trouble shooting for me. she recommended the cane sugar and i’ve been blessing her ever since.\r\n",
      "\r\n",
      "top-quality brands:  \r\n",
      "\r\n",
      "please be safe, buy a quality brands and then stick with it for the best results. a friend of mine, who is a wonderful cook and baker, travels a lot and she often prepares treats for her hosts. she’s learned to ask the host to have her favorite shortening and flour on hand. she has even made up a little makeup type case that carries her favorite extracts and precious spices. that way she knows what she is working with, how it handles, and what tastes she can expect for the finished product. some surprises are not pleasant. \r\n",
      "\r\n",
      "storing buttercream icing: \r\n",
      "\r\n",
      "if you are not going to be using the icing right away, place it in a clean, sealable bowl. store it in the refrigerator but please don’t place it next to the marinating salmon, garlic or broccoli.  you do not want those flavors in your icing!  i like to use my icing within a few days but it will hold in the cold refrigerator for a couple of weeks if necessary.  \r\n",
      "\r\n",
      "i often make a double batch of icing the night before i have a baking project.  that way i know that i have plenty of icing, it’s fresh and i don’t have to make it while i’m in the middle of baking the cakes.  the extra can always be used for a batch of cupcakes.\r\n",
      "\r\n",
      "when you remove the icing from the refrigerator, you might notice that the icing has taken on a sponge like texture. do yourself a favor and place the icing in a bowl and mix by hand using a back and forth, smashing motion with a spoon or icing spatula. what you want to do is to smash the bubbles out of the icing. this extra step will help to give you the smoothest icing for a pretty top and sides of the cake. i have found that you will get an even better texture of icing if it is at room temperature before you try to do your icing.\r\n",
      "\r\n",
      "bad buttercream icing days:  \r\n",
      "\r\n",
      "one thing that seems very silly but is true. there are bad buttercream days! i’ve asked quite a few decorators about this and every one says “yes, there are lousy days”. i’m not sure what causes the problem. \r\n",
      "\r\n",
      "it could be that every human has bad days so they blame the buttercream. \r\n",
      "\r\n",
      "it may be the humidity or that there is a low pressure system hanging over your town. \r\n",
      "\r\n",
      "i just know why but it is a perceived fact. the way i have handled the problem is that i changed the decoration on the cake.  i couldn’t get the smooth top or sides as i originally planned. writing a greeting on a messy top would look awful so i changed the design idea and put flowers everywhere. i could have also done a basket weave technique around the sides. just go with the flow, and don’t get frustrated. aunt martha won’t chuck the cake at you if you don’t write her name on the top this time. remember that you are creating something that is to be eaten so have fun with it.  \r\n",
      "\r\n",
      "different mixers:\r\n",
      "\r\n",
      "if you have a heavy duty counter mixer, you can prepare a whole batch at one time.  if you are using a hand mixer, divide the recipe in half.  if you notice the mixer getting hot, please stop and let the machine cool off.\r\n",
      "\r\n",
      "i also prefer to mix the buttercream on a low setting. it seems that the higher setting do the job faster but you also will get a spongy texture to the icing. i don’t want that quality in my final ice coating or flowers on the cake. \r\n",
      "\r\n",
      "using weight scales:\r\n",
      "\r\n",
      "1 cup of crisco weighs 6 ounces.  \r\n",
      "\r\n",
      "i put a piece of wax paper on my scale and start plopping spoons of shortening on until i get the desired weight. it really saves on the cleanup.  \r\n",
      "\r\n",
      "\r\n",
      "\r\n",
      "recipe from peggy at whatscookingamerica.net\n",
      "--------\n",
      "\n",
      "a translucent golden-brown crust allows the green of the avocado to be seen.  the crispy exterior is a counterpoint to the unctuous interior.  these are a signature dish for me, and the one i most often get requests to make (although my seafood and ricotta stuffed buckwheat pancakes run a close second).\r\n",
      "\r\n",
      "these fritters came about ten years ago when i was shopping for a dinner i was making for a friend who is a cia-trained chef.  i was in a vegetable market and saw these gorgeous avocados that i just knew would be ripe in the next two days.  i tried to think of what i could do with them since a) everyone serves cold avocado, and b) i really am not fond of guacamole.  as i tried to think of what i could make with them that was hot, the work 'fritters' jumped into my head.  having never made a fritter before, i was a little surprised to have that thought; but having never known when a vegetable was going to be ripe before i figured i was on a roll and decided to go for it.\r\n",
      "\r\n",
      "to serve with my never-before-tried-fritters, i decided to make a crème fraîche-lime-cayenne dipping sauce.  so i made fresh crème fraîche, and used it as a base not only for this dip, but for a tia maria sauce to go with the flourless chocolate cake i made for dessert (another never-before made item, but with the recipe from cook's illustrated it was the only thing i wasn't making up as i went along).\r\n",
      "\r\n",
      "the result of the fritters was that i got to taste the test fritter, then had to dive across the couch before the last one was devoured in order to have a second.\r\n",
      "\r\n",
      "the one evolution in the recipe is the change from cayenne to chipotle in the dip.  i like the smokiness, and it gives a rough edge to something very smooth - i am all about contrast.  feel free to use whatever chile or combination thereof that you like best.  this dip is easy and stands on it's own at a party for anything you want to dip into it.  i have also made it with vegan sour cream with great results.\r\n",
      "\r\n",
      "the name alligator claws comes from an alternate name for the avocado: the alligator pear, as well as the fact that the wedges of avocado look like claws.\r\n",
      "\r\n",
      "(for those not familiar with the name alligator pear, it derives from both the tough, textured exterior - reminiscent of an alligator's hide, and the fact that you really can't eat one until it softens - just like a pear.)\r\n",
      "\r\n",
      "alligator claws are also a great name to call them if you have kids who either won't eat anything that sounds weird and you want to keep them to yourself, or - if you want your kids to eat them - if you have kids who'll only eat things that will gross other people out.\r\n",
      "\r\n",
      "if you are preparing these for kids (and i recommend you do whatever name you choose to call them), protect their palates and tone down the heat of the sauce.  maybe skip the chiles altogether and put in just a hint of finely ground pepper (white pepper won't look like black specks throughout the dip - i'm normally not that fussy, but it's something kids will notice).\r\n",
      "\r\n",
      "allow half an avocado per person.  this is so rich that more is too much.\r\n",
      "\r\n",
      "note:\r\n",
      "you can easily cut the recipe in half, all the batter is is a one-to-one mix of flour & water (someone has suggested trying tempura batter which comes in a mix at many supermarkets - i tend to be a from-scratch kind of guy.  or do i just mean itchy?).\r\n",
      "\r\n",
      "enjoy.\r\n",
      "\r\n",
      "-- text by michael david winter, aka the poker roach\n",
      "--------\n",
      "\n",
      "this is the recipe as taught in the main line school night [winter, 2005] class on regional chinese cooking by betty foo, chef & co-owner of the hunan restaurant in ardmore, pa. betty and her husband are from hunan and have returned to visit, so the recipe is authentic to the region, both by family history, by recent comparison, and by my own review of chinese regional cookbooks.\r\n",
      "\r\n",
      "originally a sichuan regional specialty, hot and sour soup has become a staple at every chinese restaurant, no matter what regional style they claim as a specialty. clearly, as with many soups, individual variations are easy and can vary the flavor considerably.\r\n",
      "\r\n",
      "one of the ways i judge any chinese restaurant the first time i eat there is by the quality of their hot and sour soup ... this one is superb!\r\n",
      "\r\n",
      "to make a kosher meat version, replace the pork with (kosher) chicken or turkey and replace the broth with a kosher broth (watch the salt if you use a commercial broth). to make a vegetarian version, use a vegetable broth and add a variety of sliced fresh mushrooms (e.g., shiitake, oyster). to make it vegan, use the above substitutions for vegetarian and skip the eggs.\r\n",
      "\r\n",
      "recipe makes about 48 oz of soup, so you can serve 4 @ 12 oz or 6 @ 8 oz.\r\n",
      "\r\n",
      "october 2008 -- addendum. thanks to all the fellow recipezaar foodies who have tried this recipe ... there have been two major issues raised: the amount of vinegar and the spiciness. re the vinegar, i went back and asked betty foo about the \"white distilled\" vs \"rice\" vinegar. so far as she knows, both are the same acidity (5%, marked on the bottle) and while the taste is different (the rice vinegar provides a more subtle flavor), they \"should be\" equivalent. she noted that rice vinegar comes in a seasoned and unseasoned version (for marukan, look at the label and the cap color to see the difference), but this shouldn't affect the acidity the vinegar provides. i'll make versions with both vinegars and update this note with some recommendations if i taste a significant difference.\r\n",
      "\r\n",
      "re the spiciness, as noted, this soup comes from sichuan, known for its love of spiciness. it may be more than you are used to, so by all means, feel free to adjust the pepper components (and other components) to your taste. \r\n",
      "\r\n",
      "also, re substituting fresh mushrooms for the dried, you should know that the dried mushrooms tend to give a more intense and woodsy flavor than fresh ... the opposite of the situation with fresh herbs vs dried. don't be surprised if you prefer the recipe done with dried mushrooms!\r\n",
      "\r\n",
      "re the ginger, it should be added at step 11, with other spices. it adds to the \"hot\" flavor by infusing the broth and the pieces add to the texture. you could, if you wanted to increase the \"hot\" of the pepper and the crunch of the veggies, divide the ginger and add some at the end as a garnish. i prefer not to, simply because i prefer the hot and sour components to be more of a blended flavor ...\n",
      "--------\n",
      "\n",
      "the first time i made this cake i grated a million pounds of carrots on a knucklebuster.  then they invented cuisinarts!  now it is much faster to shred the carrots on a fine shredding disk and no bloody knuckles!  i have baked it in 8\", 9\", 9x13\" pans so if you want to experiment with pan size it works.  one thing i found was baking and stacking the three layers is tricky.  my favorite way is two 8\" pans for a nice layer cake and an 8\" square pan to put into the freezer for unexpected company. i hope you try this wonderful cake.  update:  in the spirit of carrot cake stories, this cake was invented by a bunny named foo-foo.  he is very famous and even has a hit song which goes like this: sing to the tune of 'down by the station'..........     \r\n",
      "\r\n",
      "\r\n",
      " little bunny foo foo,\r\n",
      "hopping through the forest,\r\n",
      "scooping up the field mice,\r\n",
      "and boppin' 'em on the head.\r\n",
      "\r\n",
      "down came the good fairy and she said - \r\n",
      "\r\n",
      "\"little bunny foo foo,\r\n",
      "i don't want to see you,\r\n",
      "scooping up the field mice,\r\n",
      "and boppin' 'em on the head.\r\n",
      "i'll give you three chances,\r\n",
      "and if you don't behave ...\r\n",
      "i'll turn you into a goon!\"\r\n",
      "\r\n",
      "the next day:\r\n",
      "\r\n",
      "little bunny foo foo,\r\n",
      "hopping through the forest,\r\n",
      "scooping up the field mice,\r\n",
      "and boppin' 'em on the head.\r\n",
      "\r\n",
      "down came the good fairy and she said:\r\n",
      "\r\n",
      "\"little bunny foo foo,\r\n",
      "i don't want to see you.\r\n",
      "scooping up the field mice.\r\n",
      "and boppin' 'em on the head.\r\n",
      "i'll give you two more chances,\r\n",
      "and if you don't behave...\r\n",
      "i'll turn you into a goon!\"\r\n",
      "\r\n",
      "the next day:\r\n",
      "\r\n",
      "little bunny foo foo,\r\n",
      "hopping through the forest,\r\n",
      "scooping up the field mice,\r\n",
      "and boppin' 'em on the head.\r\n",
      "\r\n",
      "down came the good fairy and she said:\r\n",
      "\r\n",
      "\"little bunny foo foo,\r\n",
      "i don't want to see you,\r\n",
      "scooping up the field mice,\r\n",
      "and boppin' 'em on the head.\r\n",
      "i'll give you one more chance,\r\n",
      "and if you don't behave..........\r\n",
      "i'll turn you into a goon!\"\r\n",
      "\r\n",
      "the next day:\r\n",
      "\r\n",
      "little bunny foo foo,\r\n",
      "hopping through the forest,\r\n",
      "scooping up the field mice,\r\n",
      "and boppin' 'em on the head,\r\n",
      "\r\n",
      "down came the good fairy and she said\r\n",
      "\r\n",
      "\"little bunny foo foo,\r\n",
      "i don't want to see you,\r\n",
      "scooping up the field mice,\r\n",
      "and boppin' 'em on the head.\r\n",
      "i gave you three chances\r\n",
      "and you didn't behave\r\n",
      "now you're a goon! poof!!\"\r\n",
      "\r\n",
      "the moral of the story is:\r\n",
      "hare today, goon tomorrow\n",
      "--------\n",
      "\n",
      "the sweet of all sweet..............to quench your thirst for complete \"heaven\" in a dish .......................fruits, juices, citrus, fresh mints.....could be that you will fall in love. \r\n",
      "\r\n",
      "towards the back of the local trattorie along the slight dirt pathway was a large flourishing mint patch that held many italian dishes, beverages, and desserts hostage. the scent from that mint on this hot sultry night in sicily, coupled by the ripe scent of blood oranges big as plums hanging with the branches of the tree above; perfumed the air as the warm breezes overtook our appetites, minds, and souls. \r\n",
      "\r\n",
      "our wonderful group of friends that was made up \"los jefes\" was a bit tired from a long day of visit with neighboring towns and small villas. we decided to stop our travel at this amazingly quaint, beautiful local trattorie. oh, how we rejoiced with this simple, but glorious orange, apple and mint granita. this was the special of the late afternoon, early evening, as the harvest had just completed and we were able to partake of this special treat at the end of the long, but glorious day. \r\n",
      "\r\n",
      "while there we tried to get mama\" to part with the recipe. unfortunately, no matter how much coaxing, promises, and smiles she wouldn't part with her family recipe. however; we had our memories, the taste still fresh in our minds, and we knew the fruits that were used. \r\n",
      "\r\n",
      "so \"los jefes\" put our heads together (and chef flower as the recipe writer) and (littlekiwichook as our taster) and came up with this honest replica of the sites, smells, and tastes of this granita. \r\n",
      "\r\n",
      "each one of us decided on which ingredient to add and why we loved it so. this brought so many memories it was an ease to do. \r\n",
      "\r\n",
      "with ripe, succulent blood oranges, crisp green apples, and married with fresh mint, we allowed this to frost all together thus producing a truly satisfying, most refreshing granita. a treat that will bring all the joys of this special place and special time together to enjoy on some special evening ahead. \r\n",
      "\r\n",
      "cook time doesn't include freezing.\n",
      "--------\n",
      "\n"
     ]
    }
   ],
   "source": [
    "import numpy as np\n",
    "lenghtes_descriptions = np.zeros(len(tokens_descriptions),dtype = int)\n",
    "for i in range(len(tokens_descriptions)):\n",
    "    for j in range(len(tokens_descriptions[i])):\n",
    "           lenghtes_descriptions[i] += len(tokens_descriptions[i][j])\n",
    "for i in np.argsort(lenghtes_descriptions)[::-1][:5]:\n",
    "    print(recipes.description[i])\n",
    "    print('--------\\n')"
   ]
  },
  {
   "cell_type": "markdown",
   "metadata": {
    "id": "hOnRVDWmuI8k"
   },
   "source": [
    "3.4 Напишите функцию, которая для заданного предложения выводит информацию о частях речи слов, входящих в предложение в следующем виде:\n",
    "```\n",
    "PRP   VBD   DT      NNS     CC   VBD      NNS        RB   \n",
    " I  omitted the raspberries and added strawberries instead\n",
    "``` \n",
    "Для определения части речи слова можно воспользоваться `nltk.pos_tag`.\n",
    "\n",
    "Проверьте работоспособность функции на любом предложении из отзывов.\n"
   ]
  },
  {
   "cell_type": "code",
   "execution_count": 155,
   "metadata": {
    "id": "JSHoLjqs2raU"
   },
   "outputs": [
    {
     "name": "stderr",
     "output_type": "stream",
     "text": [
      "[nltk_data] Downloading package punkt to\n",
      "[nltk_data]     C:\\Users\\User\\AppData\\Roaming\\nltk_data...\n",
      "[nltk_data]   Package punkt is already up-to-date!\n",
      "[nltk_data] Downloading package averaged_perceptron_tagger to\n",
      "[nltk_data]     C:\\Users\\User\\AppData\\Roaming\\nltk_data...\n",
      "[nltk_data]   Unzipping taggers\\averaged_perceptron_tagger.zip.\n"
     ]
    },
    {
     "data": {
      "text/plain": [
       "True"
      ]
     },
     "execution_count": 155,
     "metadata": {},
     "output_type": "execute_result"
    }
   ],
   "source": [
    "nltk.download('punkt')\n",
    "nltk.download('averaged_perceptron_tagger')"
   ]
  },
  {
   "cell_type": "code",
   "execution_count": 223,
   "metadata": {},
   "outputs": [
    {
     "name": "stdout",
     "output_type": "stream",
     "text": [
      "DT      NN      VBZ     JJ      IN      JJ      NN      ,       RB      IN      PRP     VBZ     IN      NN      NNS     .       \n",
      "\n",
      "This    recipe  is      perfect for     salmon  fillet  ,       even    though  it      calls   for     salmon  steaks  .       "
     ]
    }
   ],
   "source": [
    "def tags(sentence = 'Default sentence'):\n",
    "    tokens = nltk.word_tokenize(sentence)\n",
    "    tagged = nltk.pos_tag(tokens)\n",
    "    for i in tagged:\n",
    "        print(f'{i[1]:<7}',end = ' ')\n",
    "    print('\\n')\n",
    "    for i in tagged:\n",
    "        print(f'{i[0]:<7}',end = ' ')\n",
    "tags('This recipe is perfect for salmon fillet, even though it calls for salmon steaks.')"
   ]
  },
  {
   "cell_type": "code",
   "execution_count": null,
   "metadata": {},
   "outputs": [],
   "source": []
  }
 ],
 "metadata": {
  "colab": {
   "collapsed_sections": [],
   "name": "08_string_Яковлев_Семён.ipynb",
   "provenance": []
  },
  "kernelspec": {
   "display_name": "Python 3",
   "language": "python",
   "name": "python3"
  },
  "language_info": {
   "codemirror_mode": {
    "name": "ipython",
    "version": 3
   },
   "file_extension": ".py",
   "mimetype": "text/x-python",
   "name": "python",
   "nbconvert_exporter": "python",
   "pygments_lexer": "ipython3",
   "version": "3.7.3"
  }
 },
 "nbformat": 4,
 "nbformat_minor": 1
}
