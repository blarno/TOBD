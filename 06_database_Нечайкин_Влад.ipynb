{
 "cells": [
  {
   "cell_type": "markdown",
   "metadata": {},
   "source": [
    "# Работа с базами данных"
   ]
  },
  {
   "cell_type": "markdown",
   "metadata": {},
   "source": [
    "Материалы:\n",
    "* Макрушин С.В. Лекция 6: Работа с базами данных\n",
    "* https://sqliteonline.com/\n",
    "* https://docs.python.org/3/library/sqlite3.html\n",
    "* https://www.geeksforgeeks.org/sql-join-set-1-inner-left-right-and-full-joins/\n",
    "* https://www.datacamp.com/community/tutorials/group-by-having-clause-sql"
   ]
  },
  {
   "cell_type": "markdown",
   "metadata": {},
   "source": [
    "## Задачи для совместного разбора"
   ]
  },
  {
   "cell_type": "markdown",
   "metadata": {},
   "source": [
    "1. Работая с базой данных `Chinook_Sqlite.sqlite`, найдите и выведите на экран имена и фамилии всех заказчиков из Канады"
   ]
  },
  {
   "cell_type": "code",
   "execution_count": 2,
   "metadata": {},
   "outputs": [],
   "source": [
    "import sqlite3"
   ]
  },
  {
   "cell_type": "code",
   "execution_count": 18,
   "metadata": {},
   "outputs": [
    {
     "ename": "ProgrammingError",
     "evalue": "executemany() can only execute DML statements.",
     "output_type": "error",
     "traceback": [
      "\u001b[1;31m---------------------------------------------------------------------------\u001b[0m",
      "\u001b[1;31mProgrammingError\u001b[0m                          Traceback (most recent call last)",
      "\u001b[1;32m<ipython-input-18-c3eb5d0d1437>\u001b[0m in \u001b[0;36m<module>\u001b[1;34m\u001b[0m\n\u001b[0;32m      6\u001b[0m \u001b[0mFROM\u001b[0m \u001b[0mCustomer\u001b[0m\u001b[1;33m\u001b[0m\u001b[1;33m\u001b[0m\u001b[0m\n\u001b[0;32m      7\u001b[0m \u001b[0mWhere\u001b[0m \u001b[0mcountry\u001b[0m \u001b[1;33m=\u001b[0m\u001b[0;31m \u001b[0m\u001b[0;31m?\u001b[0m\u001b[1;33m\u001b[0m\u001b[1;33m\u001b[0m\u001b[0m\n\u001b[1;32m----> 8\u001b[1;33m ''', [('Canada',),('USA',)])\n\u001b[0m\u001b[0;32m      9\u001b[0m \u001b[1;31m#1. проитерировать курсор\u001b[0m\u001b[1;33m\u001b[0m\u001b[1;33m\u001b[0m\u001b[1;33m\u001b[0m\u001b[0m\n\u001b[0;32m     10\u001b[0m \u001b[1;31m#2. .fetchone()\u001b[0m\u001b[1;33m\u001b[0m\u001b[1;33m\u001b[0m\u001b[1;33m\u001b[0m\u001b[0m\n",
      "\u001b[1;31mProgrammingError\u001b[0m: executemany() can only execute DML statements."
     ]
    }
   ],
   "source": [
    "con = sqlite3.connect('data/Chinook_Sqlite.sqlite')\n",
    "cur = con.cursor()\n",
    "\n",
    "cur.executemany('''\n",
    "SELECT FirstName,Lastname \n",
    "FROM Customer \n",
    "Where country = ? \n",
    "''', [('Canada',),('USA',)])\n",
    "#1. проитерировать курсор\n",
    "#2. .fetchone()\n",
    "#3. .fetchmany(m)\n",
    "#4. .fetchall()\n",
    "print(cur.fetchall())\n",
    "cur.close()\n",
    "con.close()"
   ]
  },
  {
   "cell_type": "markdown",
   "metadata": {},
   "source": [
    "2. Найти и вывести на экран названия всех альбомов группы Accept"
   ]
  },
  {
   "cell_type": "code",
   "execution_count": 22,
   "metadata": {},
   "outputs": [
    {
     "name": "stdout",
     "output_type": "stream",
     "text": [
      "[('Accept', 'Balls to the Wall'), ('Accept', 'Restless and Wild')]\n"
     ]
    }
   ],
   "source": [
    "con = sqlite3.connect('data/Chinook_Sqlite.sqlite')\n",
    "cur = con.cursor()\n",
    "\n",
    "cur.execute('''\n",
    "SELECT Artist.Name,Album.Title\n",
    "FROM Artist,Album\n",
    "WHERE  Artist.Artistid = Album.Artistid AND Artist.Name = 'Accept'\n",
    "''')\n",
    "\n",
    "print(cur.fetchall())\n",
    "cur.close()\n",
    "con.close()"
   ]
  },
  {
   "cell_type": "markdown",
   "metadata": {},
   "source": [
    "3. Создайте базу данных с названием вашей группы. В этой базе данных создайте таблицу Student, содержащую 2 столбца: id и name. Добавьте в таблицу Student информацию о студентах, сидящих с вами по соседству."
   ]
  },
  {
   "cell_type": "code",
   "execution_count": 17,
   "metadata": {},
   "outputs": [
    {
     "name": "stdout",
     "output_type": "stream",
     "text": [
      "[]\n"
     ]
    }
   ],
   "source": [
    "con = sqlite3.connect('data/Chinook_Sqlite.sqlite')\n",
    "cur = con.cursor()\n",
    "cur.execute('''\n",
    "CREATE TABLE  Student(\n",
    "    id INTEGER,\n",
    "    name VARCHAR(50)\n",
    ")\n",
    "''')\n",
    "cur.execute('''\n",
    "INSERT INTO Student(id, name)\n",
    "VALUES (1,'Nikita'),(2,'Vlad')\n",
    "''')\n",
    "con.commit()\n",
    "cur.close()\n",
    "con.close()"
   ]
  },
  {
   "cell_type": "markdown",
   "metadata": {},
   "source": [
    "## Лабораторная работа 6"
   ]
  },
  {
   "cell_type": "markdown",
   "metadata": {},
   "source": [
    "1. Создайте файл базы данных c названием `recipes.db`. Создайте объект-курсор. "
   ]
  },
  {
   "cell_type": "code",
   "execution_count": 1,
   "metadata": {},
   "outputs": [],
   "source": [
    "import sqlite3\n",
    "\n",
    "con = sqlite3.connect('data/recipes.db')\n",
    "cur = con.cursor()\n",
    "\n",
    "cur.close()\n",
    "con.close()"
   ]
  },
  {
   "cell_type": "markdown",
   "metadata": {},
   "source": [
    "2. Напишите и выполните SQL-запрос для создания таблицы рецептов `Recipe`. Таблица должна содержать следующие поля:\n",
    "`id`, `name`, `minutes`, `submitted`, `description`, `n_ingredients`. Определитесь с типами и составом ключевых полей."
   ]
  },
  {
   "cell_type": "code",
   "execution_count": 6,
   "metadata": {},
   "outputs": [],
   "source": [
    "con = sqlite3.connect('data/recipes.db')\n",
    "cur = con.cursor()\n",
    "cur.execute('''\n",
    "CREATE TABLE  Recipe(\n",
    "    id INTEGER,\n",
    "    name TEXT,\n",
    "    minutes INTEGER,\n",
    "    submitted DATE,\n",
    "    description TEXT,\n",
    "    n_ingredients INTEGER)\n",
    "''')\n",
    "con.commit()\n",
    "cur.close()\n",
    "con.close()"
   ]
  },
  {
   "cell_type": "markdown",
   "metadata": {},
   "source": [
    "3. Напишите и выполните SQL-запрос для создания таблицы отзывов `Review`. Таблица должна содержать следующие поля:\n",
    "`id`, `user_id`, `recipe_id`, `date`, `rating`, `review`. Определитесь с типами полей, набором ключевых полей. При помощи внешнего ключа соедините две таблицы."
   ]
  },
  {
   "cell_type": "code",
   "execution_count": 7,
   "metadata": {},
   "outputs": [
    {
     "name": "stdout",
     "output_type": "stream",
     "text": [
      "[]\n"
     ]
    }
   ],
   "source": [
    "con = sqlite3.connect('data/recipes.db')\n",
    "cur = con.cursor()\n",
    "cur.execute('''\n",
    "CREATE TABLE  Review(\n",
    "    id INTEGER,\n",
    "    user_id INTEGER,\n",
    "    recipe_id INTEGER,\n",
    "    date DATE,\n",
    "    rating REAL,\n",
    "    review TEXT,\n",
    "    PRIMARY KEY (id))\n",
    "''')\n",
    "\n",
    "cur.execute('''\n",
    "SELECT * FROM Review JOIN Recipe ON Recipe.id = Review.recipe_id\n",
    "''')\n",
    "print(cur.fetchall())\n",
    "con.commit()\n",
    "cur.close()\n",
    "con.close()"
   ]
  },
  {
   "cell_type": "markdown",
   "metadata": {},
   "source": [
    "4. Загрузите данные из файлов `reviews_sample.csv` (__ЛР2__) и `recipes_sample_with_tags_ingredients.csv` (__ЛР5__) в созданные таблицы"
   ]
  },
  {
   "cell_type": "code",
   "execution_count": 9,
   "metadata": {},
   "outputs": [],
   "source": [
    "from sqlalchemy import create_engine\n",
    "import pandas as pd\n",
    "recipes = pd.read_csv('data/recipes_sample_with_tags_ingredients.csv',sep = ',',parse_dates=['submitted'],index_col = 'id')[['name', 'minutes', 'submitted', 'description', 'n_ingredients']]\n",
    "reviews = pd.read_csv('data/reviews_sample.csv',sep = ',',parse_dates=['date']).rename(columns={'Unnamed: 0':'id'})[['id','user_id','recipe_id', 'date', 'rating', 'review']]\n",
    "engine = create_engine('sqlite:///data/recipes.db', echo=False)\n",
    "with engine.begin() as connection:\n",
    "    recipes.to_sql('recipe', con=connection, if_exists='append')\n",
    "with engine.begin() as connection:\n",
    "    reviews.to_sql('review', con=connection, if_exists='append',index=False)"
   ]
  },
  {
   "cell_type": "markdown",
   "metadata": {},
   "source": [
    "5. Найдите все рецепты, для выполнения которых нужно ровно 10 ингредиентов. Выведите на экран первые 5 из найденных рецептов."
   ]
  },
  {
   "cell_type": "code",
   "execution_count": 13,
   "metadata": {},
   "outputs": [
    {
     "name": "stdout",
     "output_type": "stream",
     "text": [
      "[(125195, 'kelly s creamy cheddar pea salad', 10), (120297, 'middle eastern   twice baked potatoes', 10), (342620, 'secret ingredient  bbq meatloaf', 10), (325714, 'the  carrot cake', 10), (437637, 'just peachy  cobbler', 10), (376813, 'magic  chicken noodle soup', 10), (401605, 'missy s  sweet potato casserole', 10), (38852, 'second only to my meatloaf  meatballs', 10), (198343, 'we re going bananas  bread', 10), (129919, 'wolf creek inn  macaroni   cheese', 10)]\n"
     ]
    }
   ],
   "source": [
    "con = sqlite3.connect('data/recipes.db')\n",
    "cur = con.cursor()\n",
    "\n",
    "cur.execute('''\n",
    "SELECT id,name,n_ingredients FROM Recipe \n",
    "WHERE n_ingredients=10\n",
    "''')\n",
    "print(cur.fetchmany(10))\n",
    "cur.close()\n",
    "con.close()"
   ]
  },
  {
   "cell_type": "markdown",
   "metadata": {},
   "source": [
    "6. Найдите название рецепта, для выполнения которого требуется больше всего времени."
   ]
  },
  {
   "cell_type": "code",
   "execution_count": 14,
   "metadata": {},
   "outputs": [
    {
     "name": "stdout",
     "output_type": "stream",
     "text": [
      "('blueberry liqueur', 129615)\n"
     ]
    }
   ],
   "source": [
    "con = sqlite3.connect('data/recipes.db')\n",
    "cur = con.cursor()\n",
    "\n",
    "cur.execute('''\n",
    "SELECT name,MAX(minutes) FROM Recipe \n",
    "''')\n",
    "print(cur.fetchone())\n",
    "cur.close()\n",
    "con.close()"
   ]
  },
  {
   "cell_type": "markdown",
   "metadata": {},
   "source": [
    "7. Запросите у пользователя id рецепта и верните информацию об этом рецепте. Если рецепт отсуствует, выведите соответствующее сообщение."
   ]
  },
  {
   "cell_type": "code",
   "execution_count": 26,
   "metadata": {},
   "outputs": [
    {
     "name": "stdout",
     "output_type": "stream",
     "text": [
      "Введите id: 125195\n",
      "(125195, 'kelly s creamy cheddar pea salad', 20, '2005-06-09 00:00:00.000000', \"i'm not a big fan of peas, but like them in things. this salad is one of my favorites. happy to share!\", 10)\n"
     ]
    }
   ],
   "source": [
    "id = int(input('Введите id: '))\n",
    "con = sqlite3.connect('data/recipes.db')\n",
    "cur = con.cursor()\n",
    "\n",
    "cur.execute(f'''\n",
    "SELECT * FROM Recipe\n",
    "WHERE id = {id}\n",
    "''')\n",
    "if(str(cur.fetchone())=='None'):\n",
    "    print('Рецепта с таким id нет')\n",
    "else:\n",
    "    print(cur.fetchone())\n",
    "cur.close()\n",
    "con.close()"
   ]
  },
  {
   "cell_type": "markdown",
   "metadata": {},
   "source": [
    "8. Найдите кол-во отзывов с рейтингом 5."
   ]
  },
  {
   "cell_type": "code",
   "execution_count": 65,
   "metadata": {},
   "outputs": [
    {
     "name": "stdout",
     "output_type": "stream",
     "text": [
      "(91361,)\n"
     ]
    }
   ],
   "source": [
    "con = sqlite3.connect('data/recipes.db')\n",
    "cur = con.cursor()\n",
    "\n",
    "cur.execute('''\n",
    "SELECT count(id) FROM review\n",
    "WHERE rating = 5\n",
    "''')\n",
    "print(cur.fetchone())\n",
    "cur.close()\n",
    "con.close()"
   ]
  },
  {
   "cell_type": "markdown",
   "metadata": {},
   "source": [
    "9. Найдите кол-во уникальных рецептов, не имеющих отзывов с рейтингом, меньше 4. "
   ]
  },
  {
   "cell_type": "code",
   "execution_count": 7,
   "metadata": {},
   "outputs": [
    {
     "name": "stdout",
     "output_type": "stream",
     "text": [
      "(12715,)\n"
     ]
    }
   ],
   "source": [
    "con = sqlite3.connect('data/recipes.db')\n",
    "cur = con.cursor()\n",
    "\n",
    "cur.execute('''\n",
    "SELECT count(my_count)\n",
    "FROM (SELECT min(rating) as my_count FROM review\n",
    "GROUP BY recipe_id)\n",
    "WHERE my_count>4\n",
    "''')\n",
    "print(cur.fetchone())\n",
    "cur.close()\n",
    "con.close()"
   ]
  },
  {
   "cell_type": "markdown",
   "metadata": {},
   "source": [
    "10. Найдите кол-во рецептов, опубликованных в 2010 году и имеющих длину не менее 15 минут."
   ]
  },
  {
   "cell_type": "code",
   "execution_count": 58,
   "metadata": {},
   "outputs": [
    {
     "name": "stdout",
     "output_type": "stream",
     "text": [
      "(2638,)\n"
     ]
    }
   ],
   "source": [
    "con = sqlite3.connect('data/recipes.db')\n",
    "cur = con.cursor()\n",
    "\n",
    "cur.execute('''\n",
    "SELECT count(id) FROM recipe\n",
    "WHERE strftime('%Y',submitted)= '2010' AND minutes>=15\n",
    "''')\n",
    "print(cur.fetchone())\n",
    "cur.close()\n",
    "con.close()"
   ]
  },
  {
   "cell_type": "markdown",
   "metadata": {},
   "source": [
    "11. Выберите id рецепта, название рецепта, id пользователя, оставившего отзыв, дату отзыва и рейтинг для тех рецептов, которые имеют не менее 3 ингредиентов. Отсортируйте результат по id рецепта."
   ]
  },
  {
   "cell_type": "code",
   "execution_count": 62,
   "metadata": {},
   "outputs": [
    {
     "name": "stdout",
     "output_type": "stream",
     "text": [
      "[(48, 'boston cream pie', 32421, '1999-08-24 00:00:00.000000', 0.0), (48, 'boston cream pie', 68674, '1999-08-24 00:00:00.000000', 2.0), (48, 'boston cream pie', 32421, '1999-08-24 00:00:00.000000', 0.0), (48, 'boston cream pie', 68674, '1999-08-24 00:00:00.000000', 2.0), (55, 'betty crocker s southwestern guacamole dip', 53959, '1999-09-15 00:00:00.000000', 4.0), (55, 'betty crocker s southwestern guacamole dip', 165567, '1999-09-15 00:00:00.000000', 5.0), (55, 'betty crocker s southwestern guacamole dip', 851190, '1999-09-15 00:00:00.000000', 5.0), (55, 'betty crocker s southwestern guacamole dip', 1060485, '1999-09-15 00:00:00.000000', 5.0), (55, 'betty crocker s southwestern guacamole dip', 53959, '1999-09-15 00:00:00.000000', 4.0), (55, 'betty crocker s southwestern guacamole dip', 165567, '1999-09-15 00:00:00.000000', 5.0)]\n"
     ]
    }
   ],
   "source": [
    "con = sqlite3.connect('data/recipes.db')\n",
    "cur = con.cursor()\n",
    "\n",
    "cur.execute('''\n",
    "SELECT recipe_id,Recipe.name,user_id,submitted,rating FROM Review,Recipe\n",
    "WHERE Review.recipe_id=Recipe.id AND recipe.n_ingredients>=3\n",
    "ORDER BY recipe_id\n",
    "''')\n",
    "print(cur.fetchmany(10))\n",
    "cur.close()\n",
    "con.close()"
   ]
  }
 ],
 "metadata": {
  "kernelspec": {
   "display_name": "Python 3",
   "language": "python",
   "name": "python3"
  },
  "language_info": {
   "codemirror_mode": {
    "name": "ipython",
    "version": 3
   },
   "file_extension": ".py",
   "mimetype": "text/x-python",
   "name": "python",
   "nbconvert_exporter": "python",
   "pygments_lexer": "ipython3",
   "version": "3.7.3"
  }
 },
 "nbformat": 4,
 "nbformat_minor": 4
}
